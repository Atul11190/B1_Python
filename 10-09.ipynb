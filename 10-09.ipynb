{
 "cells": [
  {
   "cell_type": "markdown",
   "id": "4f94c37f-8818-46b1-b276-8fd20b841354",
   "metadata": {},
   "source": [
    "Lamda map filter list commprehension."
   ]
  },
  {
   "cell_type": "code",
   "execution_count": 33,
   "id": "622f70b5-0c9f-4e78-b57f-9812051ba23f",
   "metadata": {},
   "outputs": [
    {
     "data": {
      "text/plain": [
       "30"
      ]
     },
     "execution_count": 33,
     "metadata": {},
     "output_type": "execute_result"
    }
   ],
   "source": [
    "#function to add two variables\n",
    "def myadd1(a,b):\n",
    "    res=a+b\n",
    "    return res\n",
    "a=10\n",
    "b=20\n",
    "res=myadd1(a,b)\n",
    "res"
   ]
  },
  {
   "cell_type": "markdown",
   "id": "a232cbe6-f9fb-4978-bd23-fae116bb04b3",
   "metadata": {},
   "source": [
    "wap to multiply two variables to form lamda function."
   ]
  },
  {
   "cell_type": "code",
   "execution_count": 31,
   "id": "a204aa1a-3e8c-4c55-a850-0fb965bb5073",
   "metadata": {},
   "outputs": [
    {
     "name": "stdout",
     "output_type": "stream",
     "text": [
      "<function <lambda> at 0x000001EADEDC9E40>\n"
     ]
    },
    {
     "data": {
      "text/plain": [
       "6"
      ]
     },
     "execution_count": 31,
     "metadata": {},
     "output_type": "execute_result"
    }
   ],
   "source": [
    "a=2\n",
    "b=3\n",
    "#normal functiom\n",
    "def mul(a,b):\n",
    "   return a*b\n",
    "    #using lamda\n",
    "mul=lambda a, b : a*b\n",
    "print(mul)\n",
    "mul(a,b)"
   ]
  },
  {
   "cell_type": "markdown",
   "id": "433d94d6-5bdd-4141-8ff6-1dc87119657a",
   "metadata": {},
   "source": [
    "wap to sqaure each number in a list without using map and lambda."
   ]
  },
  {
   "cell_type": "code",
   "execution_count": 70,
   "id": "a5720593-6510-4b90-aaff-fa5f1c534b76",
   "metadata": {},
   "outputs": [
    {
     "name": "stdout",
     "output_type": "stream",
     "text": [
      "[1, 4, 9, 16, 25]\n"
     ]
    }
   ],
   "source": [
    "#without using map and lambda\n",
    "numbers=[1,2,3,4,5]\n",
    "squared_numbers = []\n",
    "for num in numbers:\n",
    "    squared_numbers.append(num ** 2)\n",
    "print(squared_numbers)\n"
   ]
  },
  {
   "cell_type": "markdown",
   "id": "f5a6deca-1cb3-4ffc-becb-b347225b7988",
   "metadata": {},
   "source": [
    "print only even numbers"
   ]
  },
  {
   "cell_type": "code",
   "execution_count": 103,
   "id": "cb6c607f-14e1-4b4e-94d9-9e0b5d839f0d",
   "metadata": {},
   "outputs": [
    {
     "name": "stdout",
     "output_type": "stream",
     "text": [
      "[4, 16]\n"
     ]
    }
   ],
   "source": [
    "#even numbers print\n",
    "even_squared_numbers = [num for num in squared_numbers if num % 2 ==0]\n",
    "print(even_squared_numbers) "
   ]
  },
  {
   "cell_type": "markdown",
   "id": "c0aec6fd-8f10-4a12-985e-df08259f426c",
   "metadata": {},
   "source": [
    "wap to create a list of square of even number from 0 to 9."
   ]
  },
  {
   "cell_type": "markdown",
   "id": "d4420b3b-7100-4acb-af52-899903182bbd",
   "metadata": {},
   "source": [
    "#list of square\n",
    "square =[]\n",
    "for i in range(10):\n",
    "    if i%2==0:\n",
    "        square.append(i**2)\n",
    "        \n",
    "print(square)"
   ]
  },
  {
   "cell_type": "markdown",
   "id": "76992a63-e76c-413f-a017-ef2222c11dde",
   "metadata": {},
   "source": [
    "same function using list comprehension"
   ]
  },
  {
   "cell_type": "code",
   "execution_count": 109,
   "id": "4842d49c-7254-47fe-a701-8de267c3c47b",
   "metadata": {},
   "outputs": [
    {
     "name": "stdout",
     "output_type": "stream",
     "text": [
      "[0, 4, 16, 36, 64]\n"
     ]
    }
   ],
   "source": [
    "#using list comprehension\n",
    "square=[i**2 for i in range(10) if i%2==0]\n",
    "print(square)"
   ]
  },
  {
   "cell_type": "markdown",
   "id": "68789325-4477-4a18-b758-423c38f1a4d5",
   "metadata": {},
   "source": [
    "wap that takes a list containning your sap id and return a list of email add."
   ]
  },
  {
   "cell_type": "code",
   "execution_count": 133,
   "id": "74118e0a-65d3-430c-8b0e-4e83b277cfa2",
   "metadata": {},
   "outputs": [
    {
     "name": "stdout",
     "output_type": "stream",
     "text": [
      "['Atul.11190@stu.upes.ac.in']\n"
     ]
    }
   ],
   "source": [
    "sap_ids_name = [\"Atul.11190\"]\n",
    "email_addresses = list(map(lambda sap_id: f\"{sap_id}@stu.upes.ac.in\", sap_ids))\n",
    "print(email_addresses)"
   ]
  },
  {
   "cell_type": "markdown",
   "id": "c87070fb-b970-44f9-a70c-361480252dd1",
   "metadata": {},
   "source": [
    "wap to print current time then pause for 2 second and again print current time."
   ]
  },
  {
   "cell_type": "code",
   "execution_count": 177,
   "id": "fda91ba4-f43d-4670-a45a-d613df87c125",
   "metadata": {},
   "outputs": [
    {
     "name": "stdout",
     "output_type": "stream",
     "text": [
      "Current time: 09:28:18.938700\n",
      "Current time: 09:28:23.940653\n"
     ]
    }
   ],
   "source": [
    "#first method\n",
    "import time\n",
    "import datetime\n",
    "# Print the current time\n",
    "print(\"Current time:\", datetime.datetime.now() .time())\n",
    "# Pause for 2 seconds\n",
    "time.sleep(5)\n",
    "# Print the current time again\n",
    "print(\"Current time:\", datetime.datetime.now() .time())"
   ]
  },
  {
   "cell_type": "code",
   "execution_count": 178,
   "id": "3b49482f-50f4-4cfd-a298-0541fa8e9217",
   "metadata": {},
   "outputs": [
    {
     "name": "stdout",
     "output_type": "stream",
     "text": [
      "Tue Sep 10 09:28:23 2024\n",
      "\n",
      "\n",
      "Tue Sep 10 09:28:25 2024\n",
      "\n",
      "\n"
     ]
    }
   ],
   "source": [
    "#second method \n",
    "import time \n",
    "def showtime():\n",
    "    print(time.ctime())\n",
    "    print(\"\\n\")\n",
    "    time.sleep(2)\n",
    "showtime()\n",
    "showtime()"
   ]
  },
  {
   "cell_type": "markdown",
   "id": "a28cb67f-ce77-4677-898f-4b557d9b59f7",
   "metadata": {},
   "source": [
    "wap that takes directory address from user in returns a list of  files and directories in that list using os module."
   ]
  },
  {
   "cell_type": "code",
   "execution_count": 180,
   "id": "11487f26-a959-48c0-921e-b0fc2a973c47",
   "metadata": {},
   "outputs": [
    {
     "name": "stdin",
     "output_type": "stream",
     "text": [
      "Enter the directory address:  C:\\Users\\acer\\B1_Python\n"
     ]
    },
    {
     "name": "stdout",
     "output_type": "stream",
     "text": [
      "Files and directories in the specified directory:\n",
      ".git\n",
      ".ipynb_checkpoints\n",
      "06-09.ipynb\n",
      "06-09.py\n",
      "Assignment_1\n",
      "firstnotebook.ipynb\n",
      "README - Copy.md\n",
      "README.md\n",
      "Untitled.ipynb\n"
     ]
    }
   ],
   "source": [
    "import os\n",
    "# Get the directory address from the user\n",
    "directory_address = input(\"Enter the directory address: \")\n",
    "# Get the list of files and directories in the specified directory\n",
    "files_and_directories = os.listdir(directory_address)\n",
    "# Print the list of files and directories\n",
    "print(\"Files and directories in the specified directory:\")\n",
    "for file_or_directory in files_and_directories:\n",
    "    print(file_or_directory)"
   ]
  },
  {
   "cell_type": "markdown",
   "id": "9de3ebea-d38c-488f-9b40-403f48e72a4d",
   "metadata": {},
   "source": [
    "wap that takes email addresses from user and messages from user and using smtp library,send message to email addresses."
   ]
  },
  {
   "cell_type": "code",
   "execution_count": null,
   "id": "0f19bc92-1f58-464c-945c-53c1f1dce6d3",
   "metadata": {},
   "outputs": [],
   "source": []
  }
 ],
 "metadata": {
  "kernelspec": {
   "display_name": "Python 3 (ipykernel)",
   "language": "python",
   "name": "python3"
  },
  "language_info": {
   "codemirror_mode": {
    "name": "ipython",
    "version": 3
   },
   "file_extension": ".py",
   "mimetype": "text/x-python",
   "name": "python",
   "nbconvert_exporter": "python",
   "pygments_lexer": "ipython3",
   "version": "3.12.4"
  }
 },
 "nbformat": 4,
 "nbformat_minor": 5
}
