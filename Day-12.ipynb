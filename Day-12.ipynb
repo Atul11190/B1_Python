{
 "cells": [
  {
   "cell_type": "markdown",
   "metadata": {},
   "source": [
    "Assignment:1- write a function that takes one input argument and return its sum,cumalitive sum,average,minimum and maximum value implement function using for loop.\n",
    "\n",
    "2.Define funtion documentation using doc string and show its uses."
   ]
  },
  {
   "cell_type": "code",
   "execution_count": 12,
   "metadata": {},
   "outputs": [
    {
     "name": "stdout",
     "output_type": "stream",
     "text": [
      "the sum= 0\n"
     ]
    },
    {
     "name": "stdin",
     "output_type": "stream",
     "text": [
      "enter a number 0 123'\n"
     ]
    },
    {
     "ename": "ValueError",
     "evalue": "invalid literal for int() with base 10: \"123'\"",
     "output_type": "error",
     "traceback": [
      "\u001b[1;31m---------------------------------------------------------------------------\u001b[0m",
      "\u001b[1;31mValueError\u001b[0m                                Traceback (most recent call last)",
      "Cell \u001b[1;32mIn[12], line 12\u001b[0m\n\u001b[0;32m     10\u001b[0m                 inp\u001b[38;5;241m=\u001b[39m\u001b[38;5;28mint\u001b[39m(\u001b[38;5;28minput\u001b[39m(\u001b[38;5;124mf\u001b[39m\u001b[38;5;124m\"\u001b[39m\u001b[38;5;124menter a number \u001b[39m\u001b[38;5;132;01m{\u001b[39;00mi\u001b[38;5;132;01m}\u001b[39;00m\u001b[38;5;124m\"\u001b[39m ))\n\u001b[0;32m     11\u001b[0m                 ls\u001b[38;5;241m.\u001b[39mappend(inp)\n\u001b[1;32m---> 12\u001b[0m calc(ls)\n",
      "Cell \u001b[1;32mIn[12], line 10\u001b[0m, in \u001b[0;36mcalc\u001b[1;34m(ls)\u001b[0m\n\u001b[0;32m      7\u001b[0m \u001b[38;5;28mprint\u001b[39m(\u001b[38;5;124m\"\u001b[39m\u001b[38;5;124mthe sum=\u001b[39m\u001b[38;5;124m\"\u001b[39m,\u001b[38;5;28msum\u001b[39m)\n\u001b[0;32m      9\u001b[0m \u001b[38;5;28;01mfor\u001b[39;00m i \u001b[38;5;129;01min\u001b[39;00m \u001b[38;5;28mrange\u001b[39m(\u001b[38;5;241m5\u001b[39m):\n\u001b[1;32m---> 10\u001b[0m             inp\u001b[38;5;241m=\u001b[39m\u001b[38;5;28mint\u001b[39m(\u001b[38;5;28minput\u001b[39m(\u001b[38;5;124mf\u001b[39m\u001b[38;5;124m\"\u001b[39m\u001b[38;5;124menter a number \u001b[39m\u001b[38;5;132;01m{\u001b[39;00mi\u001b[38;5;132;01m}\u001b[39;00m\u001b[38;5;124m\"\u001b[39m ))\n\u001b[0;32m     11\u001b[0m             ls\u001b[38;5;241m.\u001b[39mappend(inp)\n",
      "\u001b[1;31mValueError\u001b[0m: invalid literal for int() with base 10: \"123'\""
     ]
    }
   ],
   "source": [
    "ls = []\n",
    "def calc(ls):\n",
    "    sum =0\n",
    "    avr=0\n",
    "    for ele in ls:\n",
    "        sum=sum=ele\n",
    "    print(\"the sum=\",sum)\n",
    "    \n",
    "    for i in range(5):\n",
    "                inp=int(input(f\"enter a number {i + 1}\" ))\n",
    "                ls.append(inp)\n",
    "calc(ls)"
   ]
  },
  {
   "cell_type": "markdown",
   "metadata": {},
   "source": [
    "Assignment:2-Write a program to take n input from user and storethem as a list"
   ]
  },
  {
   "cell_type": "code",
   "execution_count": 4,
   "metadata": {},
   "outputs": [
    {
     "name": "stdin",
     "output_type": "stream",
     "text": [
      "Enter the amount of numbers in lit 1\n",
      "Enter the elements for the list 1\n"
     ]
    },
    {
     "name": "stdout",
     "output_type": "stream",
     "text": [
      "[1]\n"
     ]
    }
   ],
   "source": [
    "ls=[]\n",
    "n = int(input(\"Enter the amount of numbers in lit\"))\n",
    "\n",
    "for i in range(0,n):\n",
    "    inp=int(input(\"Enter the elements for the list\"))\n",
    "    ls.append(inp)\n",
    "print(ls)"
   ]
  },
  {
   "cell_type": "code",
   "execution_count": 5,
   "metadata": {},
   "outputs": [
    {
     "name": "stdin",
     "output_type": "stream",
     "text": [
      "Enter the amount of numbers in lit 1\n",
      "Enter the elements for the list 1\n"
     ]
    },
    {
     "name": "stdout",
     "output_type": "stream",
     "text": [
      "[1]\n"
     ]
    }
   ],
   "source": [
    "ls=[]\n",
    "\n",
    "def userlist():\n",
    "    n = int(input(\"Enter the amount of numbers in lit\"))\n",
    "\n",
    "    for i in range(0,n):\n",
    "        inp=int(input(\"Enter the elements for the list\"))\n",
    "        ls.append(inp)\n",
    "\n",
    "    return ls\n",
    "\n",
    "\n",
    "print(userlist())"
   ]
  },
  {
   "cell_type": "code",
   "execution_count": null,
   "metadata": {},
   "outputs": [],
   "source": []
  }
 ],
 "metadata": {
  "kernelspec": {
   "display_name": "Python 3 (ipykernel)",
   "language": "python",
   "name": "python3"
  },
  "language_info": {
   "codemirror_mode": {
    "name": "ipython",
    "version": 3
   },
   "file_extension": ".py",
   "mimetype": "text/x-python",
   "name": "python",
   "nbconvert_exporter": "python",
   "pygments_lexer": "ipython3",
   "version": "3.12.4"
  }
 },
 "nbformat": 4,
 "nbformat_minor": 4
}
