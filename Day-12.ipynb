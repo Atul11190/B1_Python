{
 "cells": [
  {
   "cell_type": "markdown",
   "metadata": {},
   "source": [
    "Assignment:1- write a function that takes one input argument and return its sum,cumalitive sum,average,minimum and maximum value implement function using for loop.\n",
    "\n",
    "2.Define funtion documentation using doc string and show its uses."
   ]
  },
  {
   "cell_type": "code",
   "execution_count": 7,
   "metadata": {},
   "outputs": [],
   "source": [
    "list =[]\n",
    "def calc(list):\n",
    "    sum=0\n",
    "    average=0\n",
    "    for elements in list:\n",
    "        sum=sum+elements\n",
    "        print(\"the sum=\",sum)\n",
    "        for i in range(5):\n",
    "            input=int(input(\"enter a number\"))\n",
    "            list.append(input)\n",
    "calc(list)"
   ]
  },
  {
   "cell_type": "markdown",
   "metadata": {},
   "source": [
    "Assignment:2-Write a program to take n input from user and storethem as a list.\n"
   ]
  },
  {
   "cell_type": "code",
   "execution_count": null,
   "metadata": {},
   "outputs": [],
   "source": [
    "list=[]\n",
    "n=int(input(\"enter a amount of numbers in a list\"))\n",
    "for i in ramge(0,n):\n",
    "    input=int(input(\"enter the element of a number\"))\n",
    "    list.append(input)\n",
    "    print(list)"
   ]
  },
  {
   "cell_type": "code",
   "execution_count": null,
   "metadata": {},
   "outputs": [],
   "source": []
  }
 ],
 "metadata": {
  "kernelspec": {
   "display_name": "Python 3 (ipykernel)",
   "language": "python",
   "name": "python3"
  },
  "language_info": {
   "codemirror_mode": {
    "name": "ipython",
    "version": 3
   },
   "file_extension": ".py",
   "mimetype": "text/x-python",
   "name": "python",
   "nbconvert_exporter": "python",
   "pygments_lexer": "ipython3",
   "version": "3.12.4"
  }
 },
 "nbformat": 4,
 "nbformat_minor": 4
}
