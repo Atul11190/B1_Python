{
 "cells": [
  {
   "cell_type": "markdown",
   "id": "5292e0f8",
   "metadata": {},
   "source": [
    "# gfdgfdgfd \n",
    "\n",
    "## jhgjhgj\n",
    "\n",
    "```python\n",
    "\n",
    "print(a)\n",
    "```\n",
    "\n",
    "$E=mc^2$\n",
    "\n"
   ]
  },
  {
   "cell_type": "code",
   "execution_count": 1,
   "id": "69e07e9d-d396-4e36-bb68-fca7b812cd26",
   "metadata": {},
   "outputs": [
    {
     "name": "stdout",
     "output_type": "stream",
     "text": [
      "1\n",
      "1.1\n"
     ]
    }
   ],
   "source": [
    "a=1\n",
    "print(a)\n",
    "b=1.1\n",
    "print(b)"
   ]
  },
  {
   "cell_type": "code",
   "execution_count": 2,
   "id": "bf01b538-f6c6-45f5-b7d5-984887f6ab3b",
   "metadata": {},
   "outputs": [
    {
     "ename": "SyntaxError",
     "evalue": "invalid syntax (799567524.py, line 1)",
     "output_type": "error",
     "traceback": [
      "\u001b[1;36m  Cell \u001b[1;32mIn[2], line 1\u001b[1;36m\u001b[0m\n\u001b[1;33m    ads=\u001b[0m\n\u001b[1;37m        ^\u001b[0m\n\u001b[1;31mSyntaxError\u001b[0m\u001b[1;31m:\u001b[0m invalid syntax\n"
     ]
    }
   ],
   "source": [
    "ads="
   ]
  },
  {
   "cell_type": "code",
   "execution_count": null,
   "id": "b1e6bc80-8388-4aaa-b8e1-fa38bfe3da90",
   "metadata": {},
   "outputs": [
    {
     "name": "stdout",
     "output_type": "stream",
     "text": [
      "[1, 2, 3, 4, 5, 6, 7, 8, 9]\n"
     ]
    }
   ],
   "source": [
    "a=[1,2,3,4,5,6,7,8,9]\n",
    "print(a)"
   ]
  },
  {
   "cell_type": "code",
   "execution_count": null,
   "id": "5ec55491-41ff-410f-8eb5-8e005d380109",
   "metadata": {},
   "outputs": [
    {
     "name": "stdout",
     "output_type": "stream",
     "text": [
      "Atul Kumar\n"
     ]
    },
    {
     "data": {
      "text/plain": [
       "str"
      ]
     },
     "execution_count": 13,
     "metadata": {},
     "output_type": "execute_result"
    }
   ],
   "source": [
    "mystring = \"Atul Kumar\"\n",
    "print(mystring)\n",
    "type(mystring)"
   ]
  },
  {
   "cell_type": "code",
   "execution_count": null,
   "id": "04a75cd6-cd45-47ae-a456-68ebeec2d80a",
   "metadata": {},
   "outputs": [
    {
     "data": {
      "text/plain": [
       "'atul kumar'"
      ]
     },
     "execution_count": 15,
     "metadata": {},
     "output_type": "execute_result"
    }
   ],
   "source": [
    "mystring.upper()\n",
    "mystring.lower()"
   ]
  },
  {
   "cell_type": "code",
   "execution_count": null,
   "id": "72ba0f69-1bf6-452c-9a51-e627116b9681",
   "metadata": {},
   "outputs": [
    {
     "data": {
      "text/plain": [
       "'Atul Kumbr'"
      ]
     },
     "execution_count": 17,
     "metadata": {},
     "output_type": "execute_result"
    }
   ],
   "source": [
    "mystring.replace(\"a\",\"b\")"
   ]
  },
  {
   "cell_type": "code",
   "execution_count": null,
   "id": "69d2975e-29b5-4753-a3d5-f182ceff6b04",
   "metadata": {},
   "outputs": [
    {
     "name": "stdout",
     "output_type": "stream",
     "text": [
      "hi \"python\"\n"
     ]
    }
   ],
   "source": [
    "str4='hi \"python\"'\n",
    "print(str4)"
   ]
  },
  {
   "cell_type": "code",
   "execution_count": null,
   "id": "39b40808-933d-4a5d-b9dd-5ced6da4ea57",
   "metadata": {},
   "outputs": [
    {
     "name": "stdout",
     "output_type": "stream",
     "text": [
      "https://upessocs.github.io/#dir=/Lectures/PythonProgramming/&file=003%20UNIT%20I%20Python%20basics.md\n"
     ]
    }
   ],
   "source": [
    "url=\"https://upessocs.github.io/#dir=/Lectures/PythonProgramming/&file=003%20UNIT%20I%20Python%20basics.md\"\n",
    "print(url)"
   ]
  },
  {
   "cell_type": "code",
   "execution_count": null,
   "id": "13bf3797-9d62-47e2-ae64-4a5ff813ef0e",
   "metadata": {},
   "outputs": [
    {
     "name": "stdout",
     "output_type": "stream",
     "text": [
      "enter your name: Atul\n"
     ]
    },
    {
     "name": "stdout",
     "output_type": "stream",
     "text": [
      "Hi Atul\n"
     ]
    }
   ],
   "source": [
    "name=input(\"enter your name:\")\n",
    "print(\"Hi \" + name)"
   ]
  },
  {
   "cell_type": "code",
   "execution_count": null,
   "id": "126f46ef-4c39-454f-bf35-3541997fe030",
   "metadata": {},
   "outputs": [
    {
     "name": "stdout",
     "output_type": "stream",
     "text": [
      "hi {} class {}\n"
     ]
    }
   ],
   "source": [
    "stringwithplaceholder = \"hi {} class {}\"\n",
    "print(stringwithplaceholder)"
   ]
  },
  {
   "cell_type": "code",
   "execution_count": null,
   "id": "8ea5cd7c-a8ec-4a7e-9bef-11fe2d5b0007",
   "metadata": {},
   "outputs": [
    {
     "name": "stdout",
     "output_type": "stream",
     "text": [
      "hi Atul class hi \"python\"\n"
     ]
    }
   ],
   "source": [
    "print(stringwithplaceholder.format(name,str4))"
   ]
  },
  {
   "cell_type": "code",
   "execution_count": null,
   "id": "05a59294-fcfa-4fae-b8be-00f8b72e99a0",
   "metadata": {},
   "outputs": [],
   "source": [
    "myclass=\"B1B2\"\n"
   ]
  },
  {
   "cell_type": "code",
   "execution_count": null,
   "id": "9968aba1-5360-4af9-a2b8-61159c5860a6",
   "metadata": {},
   "outputs": [
    {
     "name": "stdout",
     "output_type": "stream",
     "text": [
      "Hi my name is Atul,my class is B1B2\n"
     ]
    }
   ],
   "source": [
    "print(f\"Hi my name is {name},my class is {myclass}\")"
   ]
  },
  {
   "cell_type": "code",
   "execution_count": null,
   "id": "33eeee68-f235-4728-b3f1-bac180b4a486",
   "metadata": {},
   "outputs": [
    {
     "name": "stdout",
     "output_type": "stream",
     "text": [
      "-1\n"
     ]
    }
   ],
   "source": [
    "print(1-2)"
   ]
  },
  {
   "cell_type": "code",
   "execution_count": null,
   "id": "dc87e59b-9b22-4504-9f7c-9ed737548a74",
   "metadata": {},
   "outputs": [
    {
     "name": "stdout",
     "output_type": "stream",
     "text": [
      "5.0\n"
     ]
    }
   ],
   "source": [
    "print(20/4)"
   ]
  },
  {
   "cell_type": "code",
   "execution_count": null,
   "id": "6e8b95d2-b3ab-46a0-bc02-9c670ea7b419",
   "metadata": {},
   "outputs": [
    {
     "name": "stdout",
     "output_type": "stream",
     "text": [
      "16\n"
     ]
    }
   ],
   "source": [
    "print(2**4)\n"
   ]
  },
  {
   "cell_type": "code",
   "execution_count": null,
   "id": "5e9436a3-7bc0-4a5d-9fe0-eb4b49b2afee",
   "metadata": {},
   "outputs": [
    {
     "name": "stdout",
     "output_type": "stream",
     "text": [
      "5\n"
     ]
    }
   ],
   "source": [
    "print(20//4)"
   ]
  },
  {
   "cell_type": "code",
   "execution_count": null,
   "id": "e4db07ad-17b1-4868-b324-1e607d630b2d",
   "metadata": {},
   "outputs": [
    {
     "name": "stdout",
     "output_type": "stream",
     "text": [
      "Hello World\n",
      "<class 'str'>\n",
      "2344258705136\n"
     ]
    }
   ],
   "source": [
    "Str1=\"Hello World\"\n",
    "print(Str1)\n",
    "print(type(Str1))\n",
    "print(id(Str1))\n"
   ]
  },
  {
   "cell_type": "code",
   "execution_count": null,
   "id": "039e7577",
   "metadata": {},
   "outputs": [
    {
     "name": "stdout",
     "output_type": "stream",
     "text": [
      "2344258832368\n"
     ]
    }
   ],
   "source": [
    "Str1=Str1.replace(\"Hello\",\"hi\")\n",
    "print(id(Str1))"
   ]
  },
  {
   "cell_type": "code",
   "execution_count": null,
   "id": "58bf9b49",
   "metadata": {},
   "outputs": [
    {
     "data": {
      "text/plain": [
       "11"
      ]
     },
     "execution_count": 19,
     "metadata": {},
     "output_type": "execute_result"
    }
   ],
   "source": [
    "len(Str1)"
   ]
  },
  {
   "cell_type": "code",
   "execution_count": null,
   "id": "70bf5f84",
   "metadata": {},
   "outputs": [
    {
     "data": {
      "text/plain": [
       "10"
      ]
     },
     "execution_count": 20,
     "metadata": {},
     "output_type": "execute_result"
    }
   ],
   "source": [
    "str2=\"0987654321\"\n",
    "len(str2)"
   ]
  },
  {
   "cell_type": "code",
   "execution_count": null,
   "id": "ead93431",
   "metadata": {},
   "outputs": [
    {
     "data": {
      "text/plain": [
       "'H'"
      ]
     },
     "execution_count": 21,
     "metadata": {},
     "output_type": "execute_result"
    }
   ],
   "source": [
    "Str1[0]"
   ]
  },
  {
   "cell_type": "code",
   "execution_count": null,
   "id": "ac0b67f9",
   "metadata": {},
   "outputs": [
    {
     "data": {
      "text/plain": [
       "'6'"
      ]
     },
     "execution_count": 22,
     "metadata": {},
     "output_type": "execute_result"
    }
   ],
   "source": [
    "str2[4]"
   ]
  },
  {
   "cell_type": "code",
   "execution_count": null,
   "id": "8beebc74",
   "metadata": {},
   "outputs": [
    {
     "data": {
      "text/plain": [
       "'2'"
      ]
     },
     "execution_count": 23,
     "metadata": {},
     "output_type": "execute_result"
    }
   ],
   "source": [
    "str2[-2]"
   ]
  },
  {
   "cell_type": "code",
   "execution_count": null,
   "id": "72584248",
   "metadata": {},
   "outputs": [
    {
     "data": {
      "text/plain": [
       "'0987'"
      ]
     },
     "execution_count": 24,
     "metadata": {},
     "output_type": "execute_result"
    }
   ],
   "source": [
    "str2[0:4]"
   ]
  },
  {
   "cell_type": "code",
   "execution_count": null,
   "id": "a3c2c032",
   "metadata": {},
   "outputs": [
    {
     "data": {
      "text/plain": [
       "'World'"
      ]
     },
     "execution_count": 25,
     "metadata": {},
     "output_type": "execute_result"
    }
   ],
   "source": [
    "Str1[-5:]"
   ]
  },
  {
   "cell_type": "code",
   "execution_count": null,
   "id": "79831375",
   "metadata": {},
   "outputs": [
    {
     "data": {
      "text/plain": [
       "'Hello World'"
      ]
     },
     "execution_count": 26,
     "metadata": {},
     "output_type": "execute_result"
    }
   ],
   "source": [
    "Str1[0:len(Str1)]"
   ]
  },
  {
   "cell_type": "code",
   "execution_count": null,
   "id": "9d7d4bd8",
   "metadata": {},
   "outputs": [
    {
     "data": {
      "text/plain": [
       "5.0"
      ]
     },
     "execution_count": 30,
     "metadata": {},
     "output_type": "execute_result"
    }
   ],
   "source": [
    "float(int(10/2))"
   ]
  },
  {
   "cell_type": "code",
   "execution_count": null,
   "id": "430ea967",
   "metadata": {},
   "outputs": [
    {
     "data": {
      "text/plain": [
       "True"
      ]
     },
     "execution_count": 31,
     "metadata": {},
     "output_type": "execute_result"
    }
   ],
   "source": [
    "bool(float(int(10/2)))"
   ]
  },
  {
   "cell_type": "code",
   "execution_count": null,
   "id": "e1ff2a6a",
   "metadata": {},
   "outputs": [
    {
     "data": {
      "text/plain": [
       "True"
      ]
     },
     "execution_count": 32,
     "metadata": {},
     "output_type": "execute_result"
    }
   ],
   "source": [
    "bool(-1)"
   ]
  },
  {
   "cell_type": "code",
   "execution_count": null,
   "id": "5836ecc3",
   "metadata": {},
   "outputs": [
    {
     "data": {
      "text/plain": [
       "True"
      ]
     },
     "execution_count": 37,
     "metadata": {},
     "output_type": "execute_result"
    }
   ],
   "source": [
    "bool(100)"
   ]
  },
  {
   "cell_type": "code",
   "execution_count": null,
   "id": "30ffe68f",
   "metadata": {},
   "outputs": [
    {
     "data": {
      "text/plain": [
       "30"
      ]
     },
     "execution_count": 38,
     "metadata": {},
     "output_type": "execute_result"
    }
   ],
   "source": [
    "10*3"
   ]
  },
  {
   "cell_type": "code",
   "execution_count": null,
   "id": "76d9f61d",
   "metadata": {},
   "outputs": [
    {
     "data": {
      "text/plain": [
       "'101010'"
      ]
     },
     "execution_count": 39,
     "metadata": {},
     "output_type": "execute_result"
    }
   ],
   "source": [
    "\"10\"*3"
   ]
  },
  {
   "cell_type": "code",
   "execution_count": null,
   "id": "2672a952",
   "metadata": {},
   "outputs": [
    {
     "data": {
      "text/plain": [
       "1000"
      ]
     },
     "execution_count": 40,
     "metadata": {},
     "output_type": "execute_result"
    }
   ],
   "source": [
    "10**3"
   ]
  },
  {
   "cell_type": "code",
   "execution_count": null,
   "id": "4487d8b6",
   "metadata": {},
   "outputs": [
    {
     "data": {
      "text/plain": [
       "100.1"
      ]
     },
     "execution_count": 41,
     "metadata": {},
     "output_type": "execute_result"
    }
   ],
   "source": [
    "1001/10"
   ]
  },
  {
   "cell_type": "code",
   "execution_count": null,
   "id": "40397098",
   "metadata": {},
   "outputs": [
    {
     "data": {
      "text/plain": [
       "100"
      ]
     },
     "execution_count": 42,
     "metadata": {},
     "output_type": "execute_result"
    }
   ],
   "source": [
    "1001//10"
   ]
  },
  {
   "cell_type": "code",
   "execution_count": null,
   "id": "b48ea1ad",
   "metadata": {},
   "outputs": [
    {
     "data": {
      "text/plain": [
       "True"
      ]
     },
     "execution_count": 43,
     "metadata": {},
     "output_type": "execute_result"
    }
   ],
   "source": [
    "a=1\n",
    "b=1\n",
    "a==b"
   ]
  },
  {
   "cell_type": "code",
   "execution_count": null,
   "id": "d79cb31e",
   "metadata": {},
   "outputs": [
    {
     "data": {
      "text/plain": [
       "True"
      ]
     },
     "execution_count": 44,
     "metadata": {},
     "output_type": "execute_result"
    }
   ],
   "source": [
    "a>=b"
   ]
  },
  {
   "cell_type": "code",
   "execution_count": null,
   "id": "6dd47ce7",
   "metadata": {},
   "outputs": [
    {
     "data": {
      "text/plain": [
       "True"
      ]
     },
     "execution_count": 45,
     "metadata": {},
     "output_type": "execute_result"
    }
   ],
   "source": [
    "a<=b"
   ]
  },
  {
   "cell_type": "code",
   "execution_count": null,
   "id": "34ac116b",
   "metadata": {},
   "outputs": [
    {
     "data": {
      "text/plain": [
       "False"
      ]
     },
     "execution_count": 46,
     "metadata": {},
     "output_type": "execute_result"
    }
   ],
   "source": [
    "a<b"
   ]
  },
  {
   "cell_type": "code",
   "execution_count": null,
   "id": "ff1eefda",
   "metadata": {},
   "outputs": [
    {
     "data": {
      "text/plain": [
       "1001.00012"
      ]
     },
     "execution_count": 47,
     "metadata": {},
     "output_type": "execute_result"
    }
   ],
   "source": [
    "a=-1001.00012\n",
    "abs(a)"
   ]
  },
  {
   "cell_type": "code",
   "execution_count": null,
   "id": "f5458918",
   "metadata": {},
   "outputs": [
    {
     "data": {
      "text/plain": [
       "1001"
      ]
     },
     "execution_count": 49,
     "metadata": {},
     "output_type": "execute_result"
    }
   ],
   "source": [
    "round(abs(a))"
   ]
  },
  {
   "cell_type": "code",
   "execution_count": null,
   "id": "07c8303b",
   "metadata": {},
   "outputs": [
    {
     "data": {
      "text/plain": [
       "[1, 2, 3]"
      ]
     },
     "execution_count": 50,
     "metadata": {},
     "output_type": "execute_result"
    }
   ],
   "source": [
    "a=[1,2,3]\n",
    "a"
   ]
  },
  {
   "cell_type": "code",
   "execution_count": null,
   "id": "72dc34dd",
   "metadata": {},
   "outputs": [
    {
     "data": {
      "text/plain": [
       "1"
      ]
     },
     "execution_count": 51,
     "metadata": {},
     "output_type": "execute_result"
    }
   ],
   "source": [
    "min((a))"
   ]
  },
  {
   "cell_type": "code",
   "execution_count": null,
   "id": "8fc95787",
   "metadata": {},
   "outputs": [
    {
     "data": {
      "text/plain": [
       "3"
      ]
     },
     "execution_count": 52,
     "metadata": {},
     "output_type": "execute_result"
    }
   ],
   "source": [
    "max(a)"
   ]
  },
  {
   "cell_type": "code",
   "execution_count": null,
   "id": "6c117c7d",
   "metadata": {},
   "outputs": [
    {
     "data": {
      "text/plain": [
       "6"
      ]
     },
     "execution_count": 53,
     "metadata": {},
     "output_type": "execute_result"
    }
   ],
   "source": [
    "sum(a)"
   ]
  },
  {
   "cell_type": "code",
   "execution_count": 9,
   "id": "76e24a6b",
   "metadata": {},
   "outputs": [
    {
     "name": "stdout",
     "output_type": "stream",
     "text": [
      "140724786510264\n"
     ]
    }
   ],
   "source": [
    "c=1\n",
    "print(id(c))"
   ]
  },
  {
   "cell_type": "code",
   "execution_count": 3,
   "id": "aa3ff595-b36b-4bb1-a677-17d4e0b0315e",
   "metadata": {},
   "outputs": [
    {
     "name": "stdout",
     "output_type": "stream",
     "text": [
      "140724786510264\n"
     ]
    }
   ],
   "source": [
    "a=1\n",
    "print(id(a))"
   ]
  },
  {
   "cell_type": "code",
   "execution_count": 5,
   "id": "c2bb1316-ba0c-4163-9325-ac79e2d8fb4b",
   "metadata": {},
   "outputs": [
    {
     "name": "stdout",
     "output_type": "stream",
     "text": [
      "140724786510264\n"
     ]
    }
   ],
   "source": [
    "b=1\n",
    "print(id(b))"
   ]
  },
  {
   "cell_type": "code",
   "execution_count": 7,
   "id": "34946580-279a-4082-94cb-f8386d401659",
   "metadata": {},
   "outputs": [
    {
     "name": "stdout",
     "output_type": "stream",
     "text": [
      "140724786510296\n"
     ]
    }
   ],
   "source": [
    "b=b+1\n",
    "print(id(b))"
   ]
  },
  {
   "cell_type": "code",
   "execution_count": 13,
   "id": "4c9262f9-bee0-443a-b166-7f268a6c28ac",
   "metadata": {},
   "outputs": [
    {
     "name": "stdout",
     "output_type": "stream",
     "text": [
      "140724786510200\n"
     ]
    }
   ],
   "source": [
    "c=c-1\n",
    "print(id(c))"
   ]
  },
  {
   "cell_type": "code",
   "execution_count": 24,
   "id": "b16d809d-fd6e-43b6-baf5-b0ff56fed8c4",
   "metadata": {},
   "outputs": [
    {
     "name": "stdout",
     "output_type": "stream",
     "text": [
      "140724786510360\n"
     ]
    }
   ],
   "source": [
    "c=c+1\n",
    "print(id(c))"
   ]
  },
  {
   "cell_type": "code",
   "execution_count": 54,
   "id": "1957c33b-6884-4b6e-9126-9922f744c28d",
   "metadata": {},
   "outputs": [
    {
     "name": "stdout",
     "output_type": "stream",
     "text": [
      "140724786510264\n",
      "140724786510264\n",
      "140724786510200\n"
     ]
    }
   ],
   "source": [
    "a=1\n",
    "b=1\n",
    "c=-1\n",
    "print(id(a))\n",
    "print(id(b))\n",
    "print(id(c))"
   ]
  },
  {
   "cell_type": "code",
   "execution_count": 56,
   "id": "bbbcffe1-2a8a-42c5-8602-cb1fcd200861",
   "metadata": {},
   "outputs": [
    {
     "name": "stdout",
     "output_type": "stream",
     "text": [
      "140724786510296\n",
      "140724786510296\n",
      "140724786510168\n"
     ]
    }
   ],
   "source": [
    "a=2\n",
    "b=2\n",
    "c=-2\n",
    "print(id(a))\n",
    "print(id(b))\n",
    "print(id(c))"
   ]
  },
  {
   "cell_type": "code",
   "execution_count": 58,
   "id": "a23159f1-2a08-4092-97fb-3f5e1edde0bd",
   "metadata": {},
   "outputs": [
    {
     "name": "stdout",
     "output_type": "stream",
     "text": [
      "140724786510328\n",
      "140724786510328\n",
      "140724786510136\n"
     ]
    }
   ],
   "source": [
    "a=3\n",
    "b=3\n",
    "c=-3\n",
    "print(id(a))\n",
    "print(id(b))\n",
    "print(id(c))"
   ]
  },
  {
   "cell_type": "code",
   "execution_count": 60,
   "id": "be43113a-4669-46ce-a3ff-64a54d39e382",
   "metadata": {},
   "outputs": [
    {
     "name": "stdout",
     "output_type": "stream",
     "text": [
      "140724786510360\n",
      "140724786510360\n",
      "140724786510104\n"
     ]
    }
   ],
   "source": [
    "a=4\n",
    "b=4\n",
    "c=-4\n",
    "print(id(a))\n",
    "print(id(b))\n",
    "print(id(c))"
   ]
  },
  {
   "cell_type": "code",
   "execution_count": 62,
   "id": "a29a6d4a-659b-466c-8113-597e9281d27c",
   "metadata": {},
   "outputs": [
    {
     "name": "stdout",
     "output_type": "stream",
     "text": [
      "140724786510392\n",
      "140724786510392\n",
      "140724786510072\n"
     ]
    }
   ],
   "source": [
    "a=5\n",
    "b=5\n",
    "c=-5\n",
    "print(id(a))\n",
    "print(id(b))\n",
    "print(id(c))"
   ]
  },
  {
   "cell_type": "code",
   "execution_count": 13,
   "id": "fd075c60-2b7b-41fd-905b-514d6d5aaafd",
   "metadata": {},
   "outputs": [
    {
     "name": "stdout",
     "output_type": "stream",
     "text": [
      "Enter a number:  5\n"
     ]
    },
    {
     "name": "stdout",
     "output_type": "stream",
     "text": [
      "5 x 1 = 5\n",
      "5 x 2 = 10\n",
      "5 x 3 = 15\n",
      "5 x 4 = 20\n",
      "5 x 5 = 25\n",
      "5 x 6 = 30\n",
      "5 x 7 = 35\n",
      "5 x 8 = 40\n",
      "5 x 9 = 45\n",
      "5 x 10 = 50\n"
     ]
    }
   ],
   "source": [
    "number = int(input(\"Enter a number: \"))\n",
    "for i in range(1, 11):\n",
    "    print(f\"{number} x {i} = {number * i}\")"
   ]
  },
  {
   "cell_type": "code",
   "execution_count": 1,
   "id": "42f7ab28-1736-41e7-8327-75f23303d851",
   "metadata": {},
   "outputs": [
    {
     "data": {
      "text/plain": [
       "4"
      ]
     },
     "execution_count": 1,
     "metadata": {},
     "output_type": "execute_result"
    }
   ],
   "source": [
    "#interactive mode\n",
    "2+2\n"
   ]
  },
  {
   "cell_type": "code",
   "execution_count": 3,
   "id": "351926f1-8aa9-40e4-8117-0a08aa3b2c82",
   "metadata": {},
   "outputs": [
    {
     "name": "stdout",
     "output_type": "stream",
     "text": [
      "Hello World!\n"
     ]
    }
   ],
   "source": [
    "print(\"Hello World!\")"
   ]
  },
  {
   "cell_type": "code",
   "execution_count": 5,
   "id": "839ec9ef-67ac-4668-ab20-af994f54b86a",
   "metadata": {},
   "outputs": [
    {
     "name": "stdout",
     "output_type": "stream",
     "text": [
      "Hello World!\n"
     ]
    }
   ],
   "source": [
    "#sripting mode \n",
    "#script.py\n",
    "print(\"Hello World!\")\n"
   ]
  },
  {
   "cell_type": "code",
   "execution_count": 13,
   "id": "0c11e88d-3ee3-42cc-ba28-014bd4b2134e",
   "metadata": {},
   "outputs": [
    {
     "name": "stdout",
     "output_type": "stream",
     "text": [
      "10\n"
     ]
    }
   ],
   "source": [
    "#dynamic type\n",
    "x = 10        # x is an integer\n",
    "print(x)\n"
   ]
  },
  {
   "cell_type": "code",
   "execution_count": 15,
   "id": "4f710114-a644-45a7-b14f-eeb5e740a724",
   "metadata": {},
   "outputs": [
    {
     "name": "stdout",
     "output_type": "stream",
     "text": [
      "Hello\n"
     ]
    }
   ],
   "source": [
    "x = \"Hello\"   # x is now a string\n",
    "print(x)"
   ]
  },
  {
   "cell_type": "code",
   "execution_count": 19,
   "id": "6fe73a70-a727-4588-bea7-53536ec31edd",
   "metadata": {},
   "outputs": [
    {
     "name": "stdout",
     "output_type": "stream",
     "text": [
      "10\n",
      "140725196241624\n",
      "140725196241656\n",
      "2230081555120\n",
      "2230127535728\n"
     ]
    }
   ],
   "source": [
    "#mutable and immutable\n",
    "x=10\n",
    "print(x)\n",
    "print(id(x))  # Output: Address of x\n",
    "x = x + 1\n",
    "print(id(x))  # Output: New address, since x is now a new object\n",
    "y = \"Hello\"\n",
    "print(id(y))  # Output: Address of y\n",
    "y = y + \" World\"\n",
    "print(id(y))  # Output: New address, since y is now a new object\n"
   ]
  },
  {
   "cell_type": "code",
   "execution_count": 21,
   "id": "fca1fdd5-e919-4f9f-bfdc-e117afc283d5",
   "metadata": {},
   "outputs": [
    {
     "name": "stdout",
     "output_type": "stream",
     "text": [
      "[1, 2, 3]\n",
      "2230136217856\n",
      "2230136217856\n"
     ]
    }
   ],
   "source": [
    "#mutable objetcs\n",
    "z=[1,2,3]\n",
    "print(z)\n",
    "print(id(z))  # Output: Address of z\n",
    "z.append(4)\n",
    "print(id(z))  # Output: Same address, even though the contents have changed\n"
   ]
  },
  {
   "cell_type": "code",
   "execution_count": 31,
   "id": "5992107a-3b96-467c-9973-2c795c9e0f9a",
   "metadata": {},
   "outputs": [
    {
     "name": "stdout",
     "output_type": "stream",
     "text": [
      "Five is greater than two!\n"
     ]
    }
   ],
   "source": [
    "#basic syntax\n",
    "if(5 > 2):\n",
    "    print(\"Five is greater than two!\")  #Indentation is crucial in Python\n"
   ]
  },
  {
   "cell_type": "code",
   "execution_count": 45,
   "id": "24bba910-55a1-439f-911d-1d4af89c4f2f",
   "metadata": {},
   "outputs": [
    {
     "name": "stdout",
     "output_type": "stream",
     "text": [
      "Hello, World!\n"
     ]
    },
    {
     "data": {
      "text/plain": [
       "'This is a \\nmulti-line comment\\nor docstring\\n'"
      ]
     },
     "execution_count": 45,
     "metadata": {},
     "output_type": "execute_result"
    }
   ],
   "source": [
    "#comments\n",
    "#This is a single line comment\n",
    "print(\"Hello, World!\")  # This is an inline comment\n",
    "\"\"\"This is a \n",
    "multi-line comment\n",
    "or docstring\n",
    "\"\"\""
   ]
  },
  {
   "cell_type": "code",
   "execution_count": 49,
   "id": "1f9bd0ee-f6a3-4531-8827-153c5b61229a",
   "metadata": {},
   "outputs": [
    {
     "name": "stdout",
     "output_type": "stream",
     "text": [
      "my_string\n"
     ]
    }
   ],
   "source": [
    "#string values\n",
    "my_string = \"Hello, World!\"\n",
    "print(\"my_string\")"
   ]
  },
  {
   "cell_type": "code",
   "execution_count": 51,
   "id": "c32eabcf-be5c-4c5a-bfff-eb70b8eec984",
   "metadata": {},
   "outputs": [
    {
     "name": "stdout",
     "output_type": "stream",
     "text": [
      "HELLO, WORLD!\n",
      "Hello, world!\n",
      "hello, Python!\n"
     ]
    }
   ],
   "source": [
    "#string methods\n",
    "my_string = \"hello, world!\"\n",
    "print(my_string.upper())  # Output: HELLO, WORLD!\n",
    "print(my_string.capitalize())  # Output: Hello, world!\n",
    "print(my_string.replace(\"world\", \"Python\"))  # Output: hello, Python!\n"
   ]
  },
  {
   "cell_type": "code",
   "execution_count": 63,
   "id": "3f659209-433d-48c7-bb49-b338babdecd2",
   "metadata": {},
   "outputs": [
    {
     "name": "stdout",
     "output_type": "stream",
     "text": [
      "Hello World\n",
      "HelloHelloHello\n",
      "True\n",
      "True\n"
     ]
    }
   ],
   "source": [
    "#striing oprators\n",
    "# Concatenation\n",
    "str1 = \"Hello\"\n",
    "str2 = \"World\"\n",
    "result1 = str1 + \" \" + str2  # Output: \"Hello World\"Repetition\n",
    "result = str1 * 3  # Output: \"HelloHelloHello\"Membership\n",
    "print(result1)\n",
    "print(result)\n",
    "print(\"H\" in str1)  # Output: True\n",
    "print(\"Z\" not in str1)  # Output: True\n",
    "\n"
   ]
  },
  {
   "cell_type": "code",
   "execution_count": 65,
   "id": "2d0aa10c-bad7-4d6b-b9ab-9757f8b89d2d",
   "metadata": {},
   "outputs": [
    {
     "name": "stdout",
     "output_type": "stream",
     "text": [
      "Hello World\n"
     ]
    }
   ],
   "source": [
    "#concatnation operator\n",
    "str1=\"Hello\"\n",
    "str2 = \"World\"\n",
    "result = str1 + \" \" + str2\n",
    "print(result)  # Output: Hello World"
   ]
  },
  {
   "cell_type": "code",
   "execution_count": 67,
   "id": "637ffb87-d774-490b-a96c-fdf45b7ecfea",
   "metadata": {},
   "outputs": [
    {
     "name": "stdout",
     "output_type": "stream",
     "text": [
      "HiHiHi\n"
     ]
    }
   ],
   "source": [
    "#repitition operator\n",
    "str1=\"Hi\"\n",
    "result = str1 * 3\n",
    "print(result)  # Output: HiHiHi"
   ]
  },
  {
   "cell_type": "code",
   "execution_count": 69,
   "id": "c51878f3-5443-4ceb-bbfd-e7f8dcd9891d",
   "metadata": {},
   "outputs": [
    {
     "name": "stdout",
     "output_type": "stream",
     "text": [
      "True\n",
      "True\n"
     ]
    }
   ],
   "source": [
    "#membership operator\n",
    "str1=\"Hello World\"\n",
    "print(\"World\" in str1)     # Output: True\n",
    "print(\"world\" not in str1) # Output: True (case-sensitive)\n"
   ]
  },
  {
   "cell_type": "code",
   "execution_count": 71,
   "id": "1308d5ba-a175-40b7-8354-cfc1c4e61fa1",
   "metadata": {},
   "outputs": [
    {
     "name": "stdout",
     "output_type": "stream",
     "text": [
      "p\n",
      "n\n",
      "pyt\n"
     ]
    }
   ],
   "source": [
    "#slice operator\n",
    "str1=\"python\"\n",
    "print(str1[0])    # Output: P (first character)\n",
    "print(str1[-1])   # Output: n (last character)\n",
    "print(str1[0:3])  # Output: Pyt (slice from index 0 to 2)\n"
   ]
  },
  {
   "cell_type": "code",
   "execution_count": 73,
   "id": "9cdc0790-3e47-43ed-862e-35096b0a84c4",
   "metadata": {},
   "outputs": [
    {
     "name": "stdout",
     "output_type": "stream",
     "text": [
      "False\n",
      "True\n"
     ]
    }
   ],
   "source": [
    "#string comparison\n",
    "str1=\"apple\"\n",
    "str2 = \"banana\"\n",
    "print(str1 == str2)  # Output: False\n",
    "print(str1 < str2)   # Output: True (because \"a\" < \"b\")\n"
   ]
  },
  {
   "cell_type": "code",
   "execution_count": 77,
   "id": "af54ef94-0a9f-4cd4-a321-79cb07ec9d51",
   "metadata": {},
   "outputs": [
    {
     "name": "stdout",
     "output_type": "stream",
     "text": [
      "He said,\"Hello!\"\n",
      "Line1\n",
      "Line2\n"
     ]
    }
   ],
   "source": [
    "#escape character\n",
    "str1=\"He said,\\\"Hello!\\\"\"\n",
    "print(str1)  # Output: He said, \"Hello!\"\n",
    "str2 = \"Line1\\nLine2\"\n",
    "print(str2)  # Output: \n",
    " # Line1\n",
    " # Line2\n"
   ]
  },
  {
   "cell_type": "code",
   "execution_count": 79,
   "id": "967502ca-c70b-43e6-95ce-77fe4944076f",
   "metadata": {},
   "outputs": [
    {
     "name": "stdout",
     "output_type": "stream",
     "text": [
      "C:\\Users\\name\\docs\n"
     ]
    }
   ],
   "source": [
    "#raw string\n",
    "str1 = r\"C:\\Users\\name\\docs\"\n",
    "print(str1)  # Output: C:\\Users\\name\\docs\n",
    "\n"
   ]
  },
  {
   "cell_type": "code",
   "execution_count": 1,
   "id": "4e59d044-1f39-4efb-9ad2-5993fc5c6f28",
   "metadata": {},
   "outputs": [
    {
     "name": "stdout",
     "output_type": "stream",
     "text": [
      "My name is Atul and I am 30 years old.\n",
      "My name is Atul and I am 30 years old.\n",
      "My name is Atul and I am 30 years old.\n"
     ]
    }
   ],
   "source": [
    "#string fromatting\n",
    "# Old-style formatting\n",
    "\n",
    "name = \"Atul\"\n",
    "age = 30\n",
    "print(\"My name is %s and I am %d years old.\" % (name, age))  # Output: My name is Alice and I am 30 years old.Using format()\n",
    "\n",
    "\n",
    "print(\"My name is {} and I am {} years old.\".format(name, age))  # Output: My name is Alice and I am 30 years old.Using f-strings (Python 3.6+)\n",
    "\n",
    "print(f\"My name is {name} and I am {age} years old.\")  # Output: My name is Alice and I am 30 years old.\n",
    "\n"
   ]
  },
  {
   "cell_type": "code",
   "execution_count": 85,
   "id": "6b6c7095-40ae-4ce0-a882-422c1f49d836",
   "metadata": {},
   "outputs": [
    {
     "name": "stdout",
     "output_type": "stream",
     "text": [
      "5\n"
     ]
    }
   ],
   "source": [
    "#length operator\n",
    "str1=\"Hello\"\n",
    "print(len(str1))  # Output: 5\n"
   ]
  },
  {
   "cell_type": "code",
   "execution_count": 87,
   "id": "2629e8e1-7ef9-49d3-b2d3-43b20092d8a8",
   "metadata": {},
   "outputs": [
    {
     "name": "stdout",
     "output_type": "stream",
     "text": [
      "HELLO\n"
     ]
    }
   ],
   "source": [
    "#string methods\n",
    "str1=\"hello\"\n",
    "print(str1.upper())  # Output: HELLO\n"
   ]
  },
  {
   "cell_type": "code",
   "execution_count": 3,
   "id": "e3faafd3-1d6b-441f-a709-c6423ed1893a",
   "metadata": {},
   "outputs": [
    {
     "name": "stdout",
     "output_type": "stream",
     "text": [
      "My name is Atul and I am 30 years old.\n"
     ]
    }
   ],
   "source": [
    "#format mthod\n",
    "name = \"Atul\"\n",
    "age = 30\n",
    "message = \"My name is {} and I am {} years old.\".format(name, age)\n",
    "print(message)  # Output: My name is Alice and I am 30 years old.\n"
   ]
  },
  {
   "cell_type": "code",
   "execution_count": 105,
   "id": "4ed1fe2b-5963-42c7-a286-e073d6e998a9",
   "metadata": {},
   "outputs": [
    {
     "name": "stdout",
     "output_type": "stream",
     "text": [
      "10\n",
      "3.14\n",
      "(1+2j)\n"
     ]
    }
   ],
   "source": [
    "#numberic data type\n",
    "x=10 #integer\n",
    "y = 3.14     # Float\n",
    "z = 1 + 2j   # Complex number\n",
    "print(x)\n",
    "print(y)\n",
    "print(z)"
   ]
  },
  {
   "cell_type": "code",
   "execution_count": 115,
   "id": "07dc4fb7-1fee-4dfd-a95e-95abb45c23a6",
   "metadata": {},
   "outputs": [
    {
     "name": "stdout",
     "output_type": "stream",
     "text": [
      "10\n",
      "-25\n",
      "12345678901234567890\n"
     ]
    }
   ],
   "source": [
    "#integer\n",
    "a=10\n",
    "b =-25\n",
    "c =12345678901234567890  # Large integer\n",
    "print(a)\n",
    "print(b)\n",
    "print(c)"
   ]
  },
  {
   "cell_type": "code",
   "execution_count": 119,
   "id": "39455d04-b9ad-471c-a512-d8966e5146d5",
   "metadata": {},
   "outputs": [
    {
     "name": "stdout",
     "output_type": "stream",
     "text": [
      "3.14159\n",
      "-2.71828\n",
      "1.0\n"
     ]
    }
   ],
   "source": [
    "#float\n",
    "d = 3.14159\n",
    "e = -2.71828\n",
    "f = 1.0\n",
    "print(d)\n",
    "print(e)\n",
    "print(f)\n"
   ]
  },
  {
   "cell_type": "code",
   "execution_count": 121,
   "id": "f9ee7cfe-8ef2-40ab-9449-ff853a43eb69",
   "metadata": {},
   "outputs": [
    {
     "name": "stdout",
     "output_type": "stream",
     "text": [
      "(3+4j)\n",
      "(-0-5j)\n",
      "(2.5+0j)\n"
     ]
    }
   ],
   "source": [
    "#complex num\n",
    "g = 3 + 4j\n",
    "h = -5j\n",
    "i = 2.5 + 0j\n",
    "print(g)\n",
    "print(h)\n",
    "print(i)\n"
   ]
  },
  {
   "cell_type": "code",
   "execution_count": 123,
   "id": "d480aaba-a198-476a-9e73-c89458d666d3",
   "metadata": {},
   "outputs": [
    {
     "name": "stdout",
     "output_type": "stream",
     "text": [
      "True\n",
      "False\n"
     ]
    }
   ],
   "source": [
    "#bool\n",
    "j = True\n",
    "k = False\n",
    "print(j)\n",
    "print(k)"
   ]
  },
  {
   "cell_type": "code",
   "execution_count": 131,
   "id": "78b05f06-0ff8-4cae-81a1-c34372fd16b0",
   "metadata": {},
   "outputs": [
    {
     "name": "stdout",
     "output_type": "stream",
     "text": [
      "3\n",
      "5.0\n",
      "(2+0j)\n",
      "False\n",
      "True\n"
     ]
    }
   ],
   "source": [
    "#type converstion\n",
    "l = int(3.7)        # Converts to 3\n",
    "m = float(5)        # Converts to 5.0\n",
    "n = complex(2)      # Converts to (2+0j)\n",
    "o = bool(0)         # Converts to False\n",
    "p = bool(42)        # Converts to True\n",
    "print(l)\n",
    "print(m)\n",
    "print(n)\n",
    "print(o)\n",
    "print(p)"
   ]
  },
  {
   "cell_type": "code",
   "execution_count": 137,
   "id": "3e30e7e8-a88e-47a1-9259-9ca90c4ffb04",
   "metadata": {},
   "outputs": [
    {
     "name": "stdout",
     "output_type": "stream",
     "text": [
      "15\n",
      "5\n",
      "50\n",
      "2.0\n",
      "3\n",
      "1\n",
      "8\n"
     ]
    }
   ],
   "source": [
    "# Examples of operations\n",
    "result1 = 10 + 5        # Addition\n",
    "result2 = 10 - 5        # Subtraction\n",
    "result3 = 10 * 5        # Multiplication\n",
    "result4 = 10 / 5        # Division\n",
    "result5 = 10 // 3       # Floor Division\n",
    "result6 = 10 % 3        # Modulus\n",
    "result7 = 2 ** 3        # Exponentiation\n",
    "print(result1)\n",
    "print(result2)\n",
    "print(result3)\n",
    "print(result4)\n",
    "print(result5)\n",
    "print(result6)\n",
    "print(result7)"
   ]
  },
  {
   "cell_type": "code",
   "execution_count": 139,
   "id": "a6c5fbc9-9836-4a1e-a29c-3e503e47d382",
   "metadata": {},
   "outputs": [
    {
     "name": "stdout",
     "output_type": "stream",
     "text": [
      "True\n",
      "True\n"
     ]
    }
   ],
   "source": [
    "# Example of comparisons\n",
    "is_equal = (10 == 10)  # True\n",
    "is_greater = (10 > 5)  # True\n",
    "print(is_equal)\n",
    "print(is_greater)\n"
   ]
  },
  {
   "cell_type": "code",
   "execution_count": 143,
   "id": "bdc2f084-91f1-483d-a98b-56b4ee6331f5",
   "metadata": {},
   "outputs": [
    {
     "name": "stdout",
     "output_type": "stream",
     "text": [
      "(2+3j)\n",
      "(1+4j)\n",
      "(3+7j)\n"
     ]
    }
   ],
   "source": [
    "#complex num\n",
    "complex1 = 2 + 3j\n",
    "complex2 = 1 + 4j\n",
    "result = complex1 + complex2  # Output: (3+7j)\n",
    "print(complex1)\n",
    "print(complex2)\n",
    "print(result)"
   ]
  },
  {
   "cell_type": "code",
   "execution_count": 145,
   "id": "a10829f6-a5d7-42ea-97a6-15f399252644",
   "metadata": {},
   "outputs": [
    {
     "name": "stdout",
     "output_type": "stream",
     "text": [
      "Enter your name:  Atul kumar\n"
     ]
    },
    {
     "name": "stdout",
     "output_type": "stream",
     "text": [
      "Atul kumar\n"
     ]
    }
   ],
   "source": [
    "#input fuction\n",
    "name = input(\"Enter your name: \")  # User inputs \"Alice\"\n",
    "print(name)"
   ]
  },
  {
   "cell_type": "code",
   "execution_count": 147,
   "id": "040063ac-bfc2-432a-aa39-032780216221",
   "metadata": {},
   "outputs": [
    {
     "name": "stdout",
     "output_type": "stream",
     "text": [
      "Hello, Atul kumar!\n"
     ]
    }
   ],
   "source": [
    "#output function\n",
    "print(\"Hello, \" + name + \"!\")  # Output: Hello, Alice!\n"
   ]
  },
  {
   "cell_type": "code",
   "execution_count": 149,
   "id": "c7c05bdc-4452-476e-a124-2c2cdab5f9df",
   "metadata": {},
   "outputs": [
    {
     "name": "stdout",
     "output_type": "stream",
     "text": [
      "Size of x: 28 bytes\n"
     ]
    }
   ],
   "source": [
    "#size of variable\n",
    "import sys\n",
    "x = 42\n",
    "size = sys.getsizeof(x)\n",
    "print(f\"Size of x: {size} bytes\")\n",
    "\n"
   ]
  },
  {
   "cell_type": "code",
   "execution_count": 151,
   "id": "2d3588c2-a1be-4b73-8fa9-fc85894254bd",
   "metadata": {},
   "outputs": [
    {
     "name": "stdout",
     "output_type": "stream",
     "text": [
      "Type of x: <class 'int'>\n"
     ]
    }
   ],
   "source": [
    "#type of variable\n",
    "x=42;\n",
    "variable_type = type(x)\n",
    "print(f\"Type of x: {variable_type}\")\n"
   ]
  },
  {
   "cell_type": "code",
   "execution_count": 153,
   "id": "8807062e-a60d-4aa2-ac1d-89c91ca623c8",
   "metadata": {},
   "outputs": [
    {
     "name": "stdout",
     "output_type": "stream",
     "text": [
      "Memory location of x: 140725196242648\n"
     ]
    }
   ],
   "source": [
    "#memory location\n",
    "x=42;\n",
    "memory_location = id(x)\n",
    "print(f\"Memory location of x: {memory_location}\")\n"
   ]
  },
  {
   "cell_type": "code",
   "execution_count": 155,
   "id": "d7e8ca06-321e-4783-8054-e3e70172d874",
   "metadata": {},
   "outputs": [
    {
     "name": "stdout",
     "output_type": "stream",
     "text": [
      "Size of x: 28 bytes\n",
      "Type of x: <class 'int'>\n",
      "Memory location (id) of x: 140725196242648\n"
     ]
    }
   ],
   "source": [
    "#all information together\n",
    "import sys\n",
    "x = 42\n",
    "size = sys.getsizeof(x)\n",
    "variable_type = type(x)\n",
    "memory_location = id(x)\n",
    "print(f\"Size of x: {size} bytes\")\n",
    "print(f\"Type of x: {variable_type}\")\n",
    "print(f\"Memory location (id) of x: {memory_location}\")\n"
   ]
  },
  {
   "cell_type": "code",
   "execution_count": 157,
   "id": "5b55f5a2-8472-4003-b069-5d686f13f055",
   "metadata": {},
   "outputs": [
    {
     "name": "stdout",
     "output_type": "stream",
     "text": [
      "This is inside the if block.\n",
      "This is outside the if block.\n"
     ]
    }
   ],
   "source": [
    "#indenting reqiurement\n",
    "if True:\n",
    "        print(\"This is inside the if block.\")\n",
    "print(\"This is outside the if block.\")\n"
   ]
  },
  {
   "cell_type": "code",
   "execution_count": 161,
   "id": "6867f87b-5511-4340-94cf-596de4553c41",
   "metadata": {},
   "outputs": [
    {
     "name": "stdout",
     "output_type": "stream",
     "text": [
      "x is greater than 5.\n"
     ]
    }
   ],
   "source": [
    "x = 10\n",
    "if x > 5:\n",
    "    print(\"x is greater than 5.\")\n",
    "\n",
    "    \n",
    "    \n",
    "\n"
   ]
  },
  {
   "cell_type": "code",
   "execution_count": 163,
   "id": "f33aff55-5523-4a61-83dd-dc08da421ebc",
   "metadata": {},
   "outputs": [
    {
     "name": "stdout",
     "output_type": "stream",
     "text": [
      "Both conditions are true.\n"
     ]
    }
   ],
   "source": [
    "#relational and logical  operator\n",
    "a=10\n",
    "b = 5\n",
    "if a > b and b > 0:\n",
    "    print(\"Both conditions are true.\")\n"
   ]
  },
  {
   "cell_type": "code",
   "execution_count": 167,
   "id": "3dc496f9-984b-41c6-83a9-59545fe6fe21",
   "metadata": {},
   "outputs": [
    {
     "name": "stdout",
     "output_type": "stream",
     "text": [
      "2\n",
      "7\n",
      "5\n",
      "-7\n",
      "12\n",
      "3\n"
     ]
    }
   ],
   "source": [
    "#bitwise operator\n",
    "a=6# (in binary: 110)\n",
    "b = 3  # (in binary: 011)\n",
    "print(a & b)  # Bitwise AND\n",
    "print(a | b)  # Bitwise OR\n",
    "print(a ^ b)  # Bitwise XOR\n",
    "print(~a)     # Bitwise NOT\n",
    "print(a << 1) # Left shift\n",
    "print(a >> 1) # Right shift\n"
   ]
  },
  {
   "cell_type": "code",
   "execution_count": 169,
   "id": "f75bfaf0-a2fe-42c9-9fac-7cc5f510d310",
   "metadata": {},
   "outputs": [
    {
     "name": "stdout",
     "output_type": "stream",
     "text": [
      "0\n",
      "1\n",
      "2\n",
      "3\n",
      "4\n"
     ]
    }
   ],
   "source": [
    "# while loop\n",
    "count=0\n",
    "while count < 5:\n",
    "    print(count)\n",
    "    count += 1\n"
   ]
  },
  {
   "cell_type": "code",
   "execution_count": 179,
   "id": "59605bc0-881d-46c5-bbf4-858504714ebe",
   "metadata": {},
   "outputs": [
    {
     "name": "stdout",
     "output_type": "stream",
     "text": [
      "0\n",
      "1\n",
      "2\n",
      "3\n",
      "4\n"
     ]
    }
   ],
   "source": [
    "#while condotion\n",
    "count=0\n",
    "while count < 10:\n",
    "    if count == 5:\n",
    "        break\n",
    "    print(count)\n",
    "    count += 1\n"
   ]
  },
  {
   "cell_type": "code",
   "execution_count": 186,
   "id": "59125618-184b-40c8-93e1-85ed87a8e2df",
   "metadata": {},
   "outputs": [
    {
     "name": "stdout",
     "output_type": "stream",
     "text": [
      "1\n",
      "2\n",
      "4\n",
      "5\n"
     ]
    }
   ],
   "source": [
    "#using continue\n",
    "count =0\n",
    "while count < 5:\n",
    "    count += 1\n",
    "    if count == 3:\n",
    "       continue\n",
    "    print(count)\n"
   ]
  },
  {
   "cell_type": "code",
   "execution_count": 190,
   "id": "747b43b2-1ca4-4fe7-9166-bf766edc23d4",
   "metadata": {},
   "outputs": [
    {
     "name": "stdout",
     "output_type": "stream",
     "text": [
      "0\n",
      "1\n",
      "2\n",
      "3\n",
      "4\n"
     ]
    }
   ],
   "source": [
    "#for loop\n",
    "for i in range(5):\n",
    "    print(i)"
   ]
  },
  {
   "cell_type": "code",
   "execution_count": 192,
   "id": "71db6cf9-e56e-4b6b-aab7-bfaa43b8ea10",
   "metadata": {},
   "outputs": [
    {
     "name": "stdout",
     "output_type": "stream",
     "text": [
      "0\n",
      "1\n",
      "2\n",
      "3\n",
      "4\n",
      "5\n",
      "6\n",
      "7\n",
      "8\n",
      "9\n"
     ]
    }
   ],
   "source": [
    "#for loop\n",
    "for i in range(0,10):\n",
    "    print(i)"
   ]
  },
  {
   "cell_type": "code",
   "execution_count": 194,
   "id": "0f284c15-ba95-4fd9-b6e3-e5269f646430",
   "metadata": {},
   "outputs": [
    {
     "name": "stdout",
     "output_type": "stream",
     "text": [
      "True\n"
     ]
    }
   ],
   "source": [
    "#check membership operator\n",
    "str1 = \"hello world\"\n",
    "result = \"hello\" in str1\n",
    "print(result)\n"
   ]
  },
  {
   "cell_type": "code",
   "execution_count": 23,
   "id": "6761863c-e11d-46b7-a561-7c6092c271aa",
   "metadata": {},
   "outputs": [],
   "source": [
    "def infoFn(a,b, *args):\n",
    "    print(a)\n",
    "    print(b)\n",
    "    print(args)\n",
    "    #infoFn(10,20,30),infoFn(10,222,30),infoFn(10,20,31)\n",
    "    infofn"
   ]
  },
  {
   "cell_type": "code",
   "execution_count": 2,
   "id": "0b6f070f-a87a-4794-b1b4-ec738a110f02",
   "metadata": {},
   "outputs": [
    {
     "name": "stdout",
     "output_type": "stream",
     "text": [
      "Original Matrix:\n",
      "[1, 2, 3]\n",
      "[4, 5, 6]\n",
      "[7, 8, 9]\n",
      "\n",
      "Modified Matrix:\n",
      "[2, 4, 6]\n",
      "[8, 10, 12]\n",
      "[14, 16, 18]\n"
     ]
    }
   ],
   "source": [
    "# Original 3x3 matrix\n",
    "matrix = [[1, 2, 3],\n",
    "          [4, 5, 6],\n",
    "          [7, 8, 9]]\n",
    "\n",
    "# Copy the matrix and multiply each element by a constant (e.g., 3)\n",
    "constant = 2\n",
    "copied_matrix = [[element * constant for element in row] for row in matrix]\n",
    "\n",
    "# Print the original matrix\n",
    "print(\"Original Matrix:\")\n",
    "for row in matrix:\n",
    "    print(row)\n",
    "\n",
    "# Print the modified copied matrix\n",
    "print(\"\\nModified Matrix:\")\n",
    "for row in copied_matrix:\n",
    "    print(row)"
   ]
  },
  {
   "cell_type": "code",
   "execution_count": 4,
   "id": "1002f001-5bf9-4c57-9384-71fc1d077c13",
   "metadata": {},
   "outputs": [
    {
     "name": "stdout",
     "output_type": "stream",
     "text": [
      "The Value of 1 variable is \t[2, 4, 6, [1, 3]]\t its id is \t 1774001404352\n",
      "The Value of 2 variable is \t[2, 4, 6, [1, 3]]\t its id is \t 1774001404352\n",
      "\n",
      "\n",
      "\n",
      "The Value of 1 variable is \t[2, 44, 6, [1, 3]]\t its id is \t 1774001404352\n",
      "The Value of 2 variable is \t[2, 44, 6, [1, 3]]\t its id is \t 1774001404352\n",
      "\n",
      "\n",
      "\n",
      "The Value of 1 variable is \t[2, 44, 6, [1, 10]]\t its id is \t 1774001404352\n",
      "The Value of 2 variable is \t[2, 44, 6, [1, 10]]\t its id is \t 1774001404352\n",
      "\n",
      "\n",
      "\n"
     ]
    }
   ],
   "source": [
    "def showDetails(*args):\n",
    "    for i in range(len(args)):\n",
    "        variable = args[i]\n",
    "        print(f\"The Value of { i+1 } variable is \\t{variable }\\t its id is \\t {id(variable)}\")\n",
    "    \n",
    "    print(\"\\n\\n\")\n",
    "    import copy\n",
    "listA = [2, 4, 6, [1, 3]]\n",
    "listB = listA\n",
    "showDetails(listA,listB)\n",
    "listB[1] = 44\n",
    "showDetails(listA,listB)\n",
    "listB[3][1] = 10\n",
    "showDetails(listA,listB)"
   ]
  },
  {
   "cell_type": "code",
   "execution_count": 6,
   "id": "2fb6fed6-074d-4243-b0c8-f9a1bd550a9e",
   "metadata": {},
   "outputs": [
    {
     "name": "stdout",
     "output_type": "stream",
     "text": [
      "The Value of 1 variable is \t[2, 4, 6, [1, 3]]\t its id is \t 1773977429248\n",
      "The Value of 2 variable is \t[2, 4, 6, [1, 3]]\t its id is \t 1773977429248\n",
      "\n",
      "\n",
      "\n",
      "The Value of 1 variable is \t[2, 44, 6, [1, 3]]\t its id is \t 1773977429248\n",
      "The Value of 2 variable is \t[2, 44, 6, [1, 3]]\t its id is \t 1773977429248\n",
      "\n",
      "\n",
      "\n",
      "The Value of 1 variable is \t[2, 44, 6, [1, 10]]\t its id is \t 1773977429248\n",
      "The Value of 2 variable is \t[2, 44, 6, [1, 10]]\t its id is \t 1773977429248\n",
      "\n",
      "\n",
      "\n"
     ]
    }
   ],
   "source": [
    "import copy\n",
    "listA = [2, 4, 6, [1, 3]]\n",
    "listB = listA\n",
    "showDetails(listA,listB)\n",
    "listB[1] = 44\n",
    "showDetails(listA,listB)\n",
    "listB[3][1] = 10\n",
    "showDetails(listA,listB)"
   ]
  },
  {
   "cell_type": "code",
   "execution_count": 8,
   "id": "63f2dde5-fdf7-4268-a185-132ca091acdc",
   "metadata": {},
   "outputs": [
    {
     "name": "stdout",
     "output_type": "stream",
     "text": [
      "8\n"
     ]
    }
   ],
   "source": [
    "def add(a, b):\n",
    "\n",
    "    \"\"\"Returns the sum of two numbers.\"\"\"\n",
    "    return a + b #Calling the function with arguments\n",
    "result = add(5, 3)\n",
    "print(result)"
   ]
  },
  {
   "cell_type": "code",
   "execution_count": 10,
   "id": "08b20d70-1661-460a-b872-e62557d34f22",
   "metadata": {},
   "outputs": [
    {
     "name": "stdout",
     "output_type": "stream",
     "text": [
      "10\n"
     ]
    }
   ],
   "source": [
    "# write a program to add three number and return its value.\n",
    "def add(a, b, c):\n",
    "\n",
    "    \"\"\"Returns the sum of two numbers.\"\"\"\n",
    "    return a + b + c #Calling the function with arguments\n",
    "result = add(5, 3, 2)\n",
    "print(result)"
   ]
  },
  {
   "cell_type": "code",
   "execution_count": 12,
   "id": "ecebac4f-9349-4f92-9ec4-64364864e4aa",
   "metadata": {},
   "outputs": [
    {
     "name": "stdout",
     "output_type": "stream",
     "text": [
      "30\n"
     ]
    }
   ],
   "source": [
    "# write a program to add six number and return its value.\n",
    "def add(a, b, c, d=0, e=0, f=0):\n",
    "\n",
    "    \"\"\"Returns the sum of two numbers.\"\"\"\n",
    "    return a + b + c+ d+ e+ f #Calling the function with arguments\n",
    "result = add(5, 3, 2, 8, 8, 4)\n",
    "print(result)"
   ]
  },
  {
   "cell_type": "code",
   "execution_count": null,
   "id": "3d93466e-e4d8-4aca-a04f-15a5178041b5",
   "metadata": {},
   "outputs": [],
   "source": []
  }
 ],
 "metadata": {
  "kernelspec": {
   "display_name": "Python 3 (ipykernel)",
   "language": "python",
   "name": "python3"
  },
  "language_info": {
   "codemirror_mode": {
    "name": "ipython",
    "version": 3
   },
   "file_extension": ".py",
   "mimetype": "text/x-python",
   "name": "python",
   "nbconvert_exporter": "python",
   "pygments_lexer": "ipython3",
   "version": "3.12.4"
  }
 },
 "nbformat": 4,
 "nbformat_minor": 5
}
