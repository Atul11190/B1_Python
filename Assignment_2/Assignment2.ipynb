{
 "cells": [
  {
   "cell_type": "markdown",
   "metadata": {},
   "source": [
    "Question.1:Write a function greet that takes two arguments:name (a string) and greeting (a string with a default value of \"Hello\").The function should return a greeting message."
   ]
  },
  {
   "cell_type": "code",
   "execution_count": 23,
   "metadata": {},
   "outputs": [
    {
     "name": "stdout",
     "output_type": "stream",
     "text": [
      "Hello, sir!\n",
      "Good morning, Sir!\n"
     ]
    }
   ],
   "source": [
    "#basic Funtion implemetation\n",
    "#Define the greet function\n",
    "def greet(name,greeting):\n",
    "    # Return a formatted greeting message\n",
    "    return f\"{greeting}, {name}!\"\n",
    "# Example usage of the greet function\n",
    "if __name__ == \"__main__\":\n",
    "# Test with custum greeting\n",
    "    print(greet(\"sir\",\"Hello\"))\n",
    "    \n",
    "# Another example with a different greeting\n",
    "    print(greet(\"Sir\",\"Good morning\"))\n"
   ]
  },
  {
   "cell_type": "markdown",
   "metadata": {},
   "source": [
    "Question.2:Create a function create_profile that takes arguments for name,age and ciy as named agruments.The function should retrun a string like \"Name:Atul,Age:23,City:Moradabad\".Ensure that the age argument has a defualt value of 18."
   ]
  },
  {
   "cell_type": "code",
   "execution_count": 24,
   "metadata": {},
   "outputs": [
    {
     "name": "stdout",
     "output_type": "stream",
     "text": [
      " Name: Atul\n",
      ",Age:18\n",
      ",City:Moradabad\n",
      " Name: Govind\n",
      ",Age:23\n",
      ",City:Dehradun\n"
     ]
    }
   ],
   "source": [
    "#Named Arguments\n",
    "#Define the create_profile function\n",
    "def create_profile(*,name,city,age=\"18\\n\"):\n",
    "#Return a formatted string with name, age, and city\n",
    "    return f\" Name: {name},Age:{age},City:{city}\"\n",
    "# Example usage of the create_profile function\n",
    "if __name__ == \"__main__\":\n",
    "#Create profile with default age\n",
    "    print(create_profile(name=\"Atul\\n\",city=\"Moradabad\"))\n",
    "#Create profile with specified age\n",
    "    print(create_profile(name=\"Govind\\n\",age=\"23\\n\", city=\"Dehradun\"))"
   ]
  },
  {
   "cell_type": "markdown",
   "metadata": {},
   "source": [
    "Write a function sum_numbers that takes any number of positional arguments(args)and keyword arguments(*kwargs).It should:\n",
    "1. Return the sum of all *args if they are numbers.\n",
    "2. Retrun a dictionary of all keyword arguments."
   ]
  },
  {
   "cell_type": "code",
   "execution_count": 26,
   "metadata": {},
   "outputs": [
    {
     "name": "stdout",
     "output_type": "stream",
     "text": [
      "Sum of numbers: 6.5\n",
      "Keyword arguments: {'name': 'Atul', 'age': 23}\n"
     ]
    }
   ],
   "source": [
    "#**using *args and kwargs\n",
    "#Define the sum_numbers function\n",
    "def sum_numbers(*args,**kwargs):\n",
    "#Filter out numbers from args and sum them\n",
    "    total_sum=sum(arg for arg in args if isinstance(arg,(int, float)))\n",
    "#Return the sum of numbers and the dictionary of keyword arguments\n",
    "    return total_sum,kwargs\n",
    "#Example usage of the sum_numbers function\n",
    "if __name__ == \"__main__\":\n",
    "#Test with both positional and keyword arguments\n",
    "    result_sum,kwarg_dict=sum_numbers(1, 2, 'a', 3.5, name=\"Atul\", age=23)\n",
    "    print(\"Sum of numbers:\", result_sum)\n",
    "    print(\"Keyword arguments:\", kwarg_dict)"
   ]
  },
  {
   "cell_type": "markdown",
   "metadata": {},
   "source": []
  }
 ],
 "metadata": {
  "kernelspec": {
   "display_name": "Python 3",
   "language": "python",
   "name": "python3"
  },
  "language_info": {
   "codemirror_mode": {
    "name": "ipython",
    "version": 3
   },
   "file_extension": ".py",
   "mimetype": "text/x-python",
   "name": "python",
   "nbconvert_exporter": "python",
   "pygments_lexer": "ipython3",
   "version": "3.11.9"
  }
 },
 "nbformat": 4,
 "nbformat_minor": 2
}
