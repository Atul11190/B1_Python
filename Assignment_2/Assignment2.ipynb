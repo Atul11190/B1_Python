{
 "cells": [
  {
   "cell_type": "markdown",
   "metadata": {},
   "source": [
    "Question.1: Write a function greet that takes two arguments: name (a string) and greeting (a string with a default value of \"Hello\"). The function should return a greeting message."
   ]
  },
  {
   "cell_type": "code",
   "execution_count": 3,
   "metadata": {},
   "outputs": [
    {
     "name": "stdout",
     "output_type": "stream",
     "text": [
      "Hello, Atul!\n",
      "Good morning, Govind!\n",
      "Welcome, Rudra!\n"
     ]
    }
   ],
   "source": [
    "#Basic Function Implementation:\n",
    "def greet(name, greeting=\"Hello\"):\n",
    "    return f\"{greeting}, {name}!\"\n",
    "#Example usage\n",
    "if __name__ == \"__main__\":\n",
    "    # Greet with default greeting\n",
    "    print(greet(\"Atul\"))\n",
    "    # Greet with a custom greeting\n",
    "    print(greet(\"Govind\", \"Good morning\"))\n",
    "    # Greet with another custom greeting\n",
    "    print(greet(\"Rudra\", \"Welcome\"))\n",
    "\n"
   ]
  },
  {
   "cell_type": "markdown",
   "metadata": {},
   "source": [
    "Question.2: Create a function create_profile that takes arguments for name, age, and city as named arguments. The function should return a string like \"Name: Alice, Age: 25, City: New York\". Ensure that the age argument has a default value of 18."
   ]
  },
  {
   "cell_type": "code",
   "execution_count": 4,
   "metadata": {},
   "outputs": [
    {
     "name": "stdout",
     "output_type": "stream",
     "text": [
      "Name: Atul, Age: 23, City: Moradabad\n",
      "Name: Rudra, Age: 18, City: Dehradun\n",
      "Name: Govind, Age: 23, City: Rampur\n"
     ]
    }
   ],
   "source": [
    "#Named Arguments:\n",
    "# Function definition\n",
    "def create_profile(name, city, age=23):\n",
    "    return f\"Name: {name}, Age: {age}, City: {city}\"\n",
    "# Example usage\n",
    "if __name__ == \"__main__\":\n",
    "    #Create profile with default age\n",
    "    print(create_profile(name=\"Atul\", city=\"Moradabad\"))  \n",
    "    #Create profile with custom age\n",
    "    print(create_profile(name=\"Rudra\", age=18, city=\"Dehradun\"))  \n",
    "    #Another profile example\n",
    "    print(create_profile(name=\"Govind\", city=\"Rampur\", age=23))  \n"
   ]
  },
  {
   "cell_type": "markdown",
   "metadata": {},
   "source": [
    "Question.3: Write a function sum_numbers that takes any number of positional arguments (args) and keyword arguments (*kwargs). It should:\n",
    "\n",
    "            # Return the sum of all *args if they are numbers.\n",
    "            # Return a dictionary of all keyword arguments."
   ]
  },
  {
   "cell_type": "code",
   "execution_count": 5,
   "metadata": {},
   "outputs": [
    {
     "name": "stdout",
     "output_type": "stream",
     "text": [
      "(6, {'name': 'Atul', 'age': 25, 'city': 'Moradabad'})\n",
      "(22.5, {'height': 180, 'country': 'USA'})\n",
      "(0, {'name': 'Rudra', 'age': 23})\n"
     ]
    }
   ],
   "source": [
    "# **Using *args and kwargs:\n",
    "# Function definition\n",
    "def sum_numbers(*args, **kwargs):\n",
    "    #Sum only the numeric arguments in args\n",
    "    total = sum(arg for arg in args if isinstance(arg, (int,float)))\n",
    "    #Return the sum of numbers and the kwargs dictionary\n",
    "    return total,kwargs\n",
    "#Example usage\n",
    "if __name__ == \"__main__\":\n",
    "    #Test with positional numbers and keyword arguments\n",
    "    result = sum_numbers(1, 2, 3, name=\"Atul\", age=25, city=\"Moradabad\")\n",
    "    print(result)\n",
    "    #Test with mixed positional arguments and keyword arguments\n",
    "    result = sum_numbers(5, \"test\", 10, 7.5, height=180, country=\"USA\")\n",
    "    print(result)\n",
    "    #Test with no positional arguments, only keyword arguments\n",
    "    result = sum_numbers(name=\"Rudra\", age=23)\n",
    "    print(result)\n"
   ]
  },
  {
   "cell_type": "markdown",
   "metadata": {},
   "source": [
    "Question.4: Write a function that uses map and a lambda to return a list where each element is squared."
   ]
  },
  {
   "cell_type": "code",
   "execution_count": 7,
   "metadata": {},
   "outputs": [
    {
     "name": "stdout",
     "output_type": "stream",
     "text": [
      "[1, 4, 9, 16, 25, 36, 49, 64, 81]\n"
     ]
    }
   ],
   "source": [
    "# Lambdas and Map:\n",
    "# Function definition\n",
    "def square_elements(lst):\n",
    "    #Using map and lambda to square each element\n",
    "    return list(map(lambda x: x ** 2, lst))\n",
    "#Example usage\n",
    "if __name__ == \"__main__\":\n",
    "    numbers = [1, 2, 3, 4, 5,6,7,8,9]\n",
    "    # Squaring the numbers\n",
    "    squared_numbers = square_elements(numbers)\n",
    "    print(squared_numbers)\n"
   ]
  },
  {
   "cell_type": "markdown",
   "metadata": {},
   "source": [
    "Question.5: Write a function that filters out all odd numbers from a list using filter and a lambda function"
   ]
  },
  {
   "cell_type": "code",
   "execution_count": 8,
   "metadata": {},
   "outputs": [
    {
     "name": "stdout",
     "output_type": "stream",
     "text": [
      "[2, 4, 6, 8, 10]\n"
     ]
    }
   ],
   "source": [
    "#Filter and Lambdas:\n",
    "# Function definition\n",
    "def filter_even_numbers(lst):\n",
    "    #Using filter and lambda to filter out odd numbers\n",
    "    return list(filter(lambda x: x % 2 == 0, lst))\n",
    "#Example usage\n",
    "if __name__ == \"__main__\":\n",
    "    numbers = [1, 2, 3, 4, 5, 6, 7, 8, 9, 10]\n",
    "    # Filtering out odd numbers\n",
    "    even_numbers = filter_even_numbers(numbers)\n",
    "    print(even_numbers)"
   ]
  },
  {
   "cell_type": "markdown",
   "metadata": {},
   "source": [
    "Question.6: Create a list comprehension that takes a list of numbers and returns a list of their squares."
   ]
  },
  {
   "cell_type": "code",
   "execution_count": 10,
   "metadata": {},
   "outputs": [
    {
     "name": "stdout",
     "output_type": "stream",
     "text": [
      "[1, 4, 9, 16, 25, 36, 49, 64, 81]\n"
     ]
    }
   ],
   "source": [
    "#Basic List Comprehension:\n",
    "# Function definition\n",
    "def square_elements(lst):\n",
    "    #Using list comprehension to square each element\n",
    "    return [x ** 2 for x in lst]\n",
    "#Example usage\n",
    "if __name__ == \"__main__\":\n",
    "    numbers = [1, 2, 3, 4, 5, 6, 7, 8, 9]\n",
    "    # Squaring the numbers\n",
    "    squared_numbers = square_elements(numbers)\n",
    "    print(squared_numbers)"
   ]
  },
  {
   "cell_type": "markdown",
   "metadata": {},
   "source": [
    "Question.7: Use a list comprehension to create a list of even numbers from 1 to 20."
   ]
  },
  {
   "cell_type": "code",
   "execution_count": 11,
   "metadata": {},
   "outputs": [
    {
     "name": "stdout",
     "output_type": "stream",
     "text": [
      "[2, 4, 6, 8, 10]\n"
     ]
    }
   ],
   "source": [
    "#List Comprehension with Condition:\n",
    "# Function definition\n",
    "def filter_even_numbers(lst):\n",
    "    #Using list comprehension to filter out odd numbers\n",
    "    return [x for x in lst if x % 2 == 0]\n",
    "#Example usage\n",
    "if __name__ == \"__main__\":\n",
    "    numbers = [1, 2, 3, 4, 5, 6, 7, 8, 9, 10]\n",
    "    # Filtering out odd numbers\n",
    "    even_numbers = filter_even_numbers(numbers)\n",
    "    print(even_numbers)\n"
   ]
  },
  {
   "cell_type": "markdown",
   "metadata": {},
   "source": [
    "Question.8: Write a function file_operations that creates a directory named \"test_folder\" using os.makedirs(). Then, pause the execution for 3 seconds using time.sleep(), and finally, delete the directory using os.rmdir()."
   ]
  },
  {
   "cell_type": "code",
   "execution_count": 17,
   "metadata": {},
   "outputs": [
    {
     "name": "stdout",
     "output_type": "stream",
     "text": [
      "Directory 'test_folder' created.\n",
      "Directory 'test_folder' deleted.\n"
     ]
    }
   ],
   "source": [
    "import os\n",
    "from time import sleep\n",
    "def file_operations():\n",
    "    # Create the directory \"test_folder\"\n",
    "    os.makedirs(\"test_folder\", exist_ok=True)\n",
    "    print(\"Directory 'test_folder' created.\")\n",
    "    # Pause execution for 3 seconds\n",
    "    sleep(3)\n",
    "    # Delete the directory \"test_folder\"\n",
    "    os.rmdir(\"test_folder\")\n",
    "    print(\"Directory 'test_folder' deleted.\")\n",
    "\n",
    "# Call the function\n",
    "file_operations()\n"
   ]
  },
  {
   "cell_type": "markdown",
   "metadata": {},
   "source": [
    "Question.9: Write a Python script that imports only sleep from the time module and renames it to pause. Use it to pause execution for 2 seconds and print \"Paused execution...\"."
   ]
  },
  {
   "cell_type": "code",
   "execution_count": 18,
   "metadata": {},
   "outputs": [
    {
     "name": "stdout",
     "output_type": "stream",
     "text": [
      "Paused execution...\n"
     ]
    }
   ],
   "source": [
    "# Importing 'sleep' from the 'time' module and renaming it to 'pause'\n",
    "from time import sleep as pause\n",
    "# Pausing execution for 2 seconds\n",
    "pause(2)\n",
    "# Printing the message after the pause\n",
    "print(\"Paused execution...\")\n"
   ]
  },
  {
   "cell_type": "markdown",
   "metadata": {},
   "source": [
    "Question.10: Write a recursive function flatten_list that can flatten a nested list of any depth using *args and **kwargs."
   ]
  },
  {
   "cell_type": "code",
   "execution_count": 19,
   "metadata": {},
   "outputs": [
    {
     "name": "stdout",
     "output_type": "stream",
     "text": [
      "[1, 2, 3, 4, 5, 6, 7, 8]\n"
     ]
    }
   ],
   "source": [
    "#**Recursive Function with *args and kwargs (Flattening a List):\n",
    "def flatten_list(*args):\n",
    "    flattened = []\n",
    "    for item in args:\n",
    "        if isinstance(item, list):\n",
    "            # Recursively flatten the nested list\n",
    "            flattened.extend(flatten_list(*item))\n",
    "        else:\n",
    "            # Add the item to the flattened list\n",
    "            flattened.append(item)\n",
    "    return flattened\n",
    "# Example usage\n",
    "nested_list = [1, [2, [3, 4]], 5, [6, [7, [8]]]]\n",
    "flat_list = flatten_list(*nested_list)\n",
    "print(flat_list)\n"
   ]
  }
 ],
 "metadata": {
  "kernelspec": {
   "display_name": "Python 3",
   "language": "python",
   "name": "python3"
  },
  "language_info": {
   "codemirror_mode": {
    "name": "ipython",
    "version": 3
   },
   "file_extension": ".py",
   "mimetype": "text/x-python",
   "name": "python",
   "nbconvert_exporter": "python",
   "pygments_lexer": "ipython3",
   "version": "3.11.9"
  }
 },
 "nbformat": 4,
 "nbformat_minor": 2
}
