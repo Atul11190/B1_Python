{
 "cells": [
  {
   "cell_type": "code",
   "execution_count": 34,
   "id": "45c79c90-8b61-4db0-b5ca-2a701a7c2cb5",
   "metadata": {},
   "outputs": [
    {
     "data": {
      "text/plain": [
       "'590011188@stu.upes.ac.in'"
      ]
     },
     "execution_count": 34,
     "metadata": {},
     "output_type": "execute_result"
    }
   ],
   "source": [
    "#1st method\n",
    "sapids=[590011190,590011189,590011188]\n",
    "def id2email(id):\n",
    "    return str(id) + \"@stu.upes.ac.in\"\n",
    "    #return f\"{id }@stu.upes.ac.in\"\n",
    "\n",
    "emails=[]\n",
    "for id in sapids:\n",
    "    email=id2email(id)\n",
    "    emails.append(email)\n",
    "\n",
    "list_of_emails=email\n",
    "list_of_emails"
   ]
  },
  {
   "cell_type": "code",
   "execution_count": 32,
   "id": "98c144f7-6673-4094-b5c9-2deda20a0cde",
   "metadata": {},
   "outputs": [
    {
     "data": {
      "text/plain": [
       "['590011190@stu.upes.ac.in',\n",
       " '590011189@stu.upes.ac.in',\n",
       " '590011188@stu.upes.ac.in']"
      ]
     },
     "execution_count": 32,
     "metadata": {},
     "output_type": "execute_result"
    }
   ],
   "source": [
    "#2nd method\n",
    "#using map function\n",
    "sapids=[590011190,590011189,590011188]\n",
    "\n",
    "#list_of_emails=map(id2email,sapids)\n",
    "list_of_emails=list(map(id2email,sapids))\n",
    "list_of_emails"
   ]
  },
  {
   "cell_type": "code",
   "execution_count": 29,
   "id": "3a893efc-e986-4dd4-9231-57cbc9fd252b",
   "metadata": {},
   "outputs": [
    {
     "data": {
      "text/plain": [
       "['590011190@stu.upes.ac.in',\n",
       " '590011189@stu.upes.ac.in',\n",
       " '590011188@stu.upes.ac.in']"
      ]
     },
     "execution_count": 29,
     "metadata": {},
     "output_type": "execute_result"
    }
   ],
   "source": [
    "#3rd method\n",
    "#using lambda function\n",
    "sapids=[590011190,590011189,590011188]\n",
    "#list_of_emails=map(id2email,sapids)\n",
    "list_of_emails=list(map(lambda id: str(id)+\"@stu.upes.ac.in\",sapids))\n",
    "list_of_emails"
   ]
  },
  {
   "cell_type": "code",
   "execution_count": null,
   "id": "4c5ab98c-bb6a-450a-84e6-bcd6a7ff51b2",
   "metadata": {},
   "outputs": [],
   "source": []
  },
  {
   "cell_type": "code",
   "execution_count": null,
   "id": "648f88af-f6aa-4262-ad0a-5c126a224dff",
   "metadata": {},
   "outputs": [],
   "source": []
  }
 ],
 "metadata": {
  "kernelspec": {
   "display_name": "Python 3 (ipykernel)",
   "language": "python",
   "name": "python3"
  },
  "language_info": {
   "codemirror_mode": {
    "name": "ipython",
    "version": 3
   },
   "file_extension": ".py",
   "mimetype": "text/x-python",
   "name": "python",
   "nbconvert_exporter": "python",
   "pygments_lexer": "ipython3",
   "version": "3.12.4"
  }
 },
 "nbformat": 4,
 "nbformat_minor": 5
}
