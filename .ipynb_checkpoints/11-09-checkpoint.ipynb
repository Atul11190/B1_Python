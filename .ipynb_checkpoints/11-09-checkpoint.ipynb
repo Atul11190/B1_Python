{
 "cells": [
  {
   "cell_type": "markdown",
   "id": "6a26db34-2e04-44d3-9c16-bea5c910120f",
   "metadata": {},
   "source": [
    "wap that takes directory address from user and organized files into coresponding folders"
   ]
  },
  {
   "cell_type": "code",
   "execution_count": null,
   "id": "c3ad5bdb-7420-4fcc-bcc7-002f91ecaaa9",
   "metadata": {},
   "outputs": [],
   "source": []
  }
 ],
 "metadata": {
  "kernelspec": {
   "display_name": "Python 3 (ipykernel)",
   "language": "python",
   "name": "python3"
  },
  "language_info": {
   "codemirror_mode": {
    "name": "ipython",
    "version": 3
   },
   "file_extension": ".py",
   "mimetype": "text/x-python",
   "name": "python",
   "nbconvert_exporter": "python",
   "pygments_lexer": "ipython3",
   "version": "3.12.4"
  }
 },
 "nbformat": 4,
 "nbformat_minor": 5
}
