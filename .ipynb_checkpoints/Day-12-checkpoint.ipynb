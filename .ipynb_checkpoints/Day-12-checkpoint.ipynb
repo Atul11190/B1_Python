{
 "cells": [
  {
   "cell_type": "markdown",
   "metadata": {},
   "source": [
    "Assignment:1- write a function that takes one input argument and return its sum,cumalitive sum,average,minimum and maximum value implement function using for loop.\n",
    "\n",
    "2.Define funtion documentation using doc string and show its uses."
   ]
  },
  {
   "cell_type": "code",
   "execution_count": 1,
   "metadata": {},
   "outputs": [
    {
     "name": "stdout",
     "output_type": "stream",
     "text": [
      "the sum= 0\n"
     ]
    },
    {
     "name": "stdin",
     "output_type": "stream",
     "text": [
      "enter a number 1 5\n",
      "enter a number 2 4\n",
      "enter a number 3 3\n",
      "enter a number 4 2\n",
      "enter a number 5 1\n"
     ]
    }
   ],
   "source": [
    "ls = []\n",
    "def calc(ls):\n",
    "    sum =0\n",
    "    avr=0\n",
    "    for ele in ls:\n",
    "        sum=sum=ele\n",
    "    print(\"the sum=\",sum)\n",
    "    \n",
    "    for i in range(5):\n",
    "                inp=int(input(f\"enter a number {i + 1}\" ))\n",
    "                ls.append(inp)\n",
    "calc(ls)"
   ]
  },
  {
   "cell_type": "markdown",
   "metadata": {},
   "source": [
    "Assignment:2-Write a program to take n input from user and store them as a list"
   ]
  },
  {
   "cell_type": "code",
   "execution_count": 4,
   "metadata": {},
   "outputs": [
    {
     "name": "stdin",
     "output_type": "stream",
     "text": [
      "Enter the amount of numbers in lit 1\n",
      "Enter the elements for the list 1\n"
     ]
    },
    {
     "name": "stdout",
     "output_type": "stream",
     "text": [
      "[1]\n"
     ]
    }
   ],
   "source": [
    "ls=[]\n",
    "n = int(input(\"Enter the amount of numbers in lit\"))\n",
    "\n",
    "for i in range(0,n):\n",
    "    inp=int(input(\"Enter the elements for the list\"))\n",
    "    ls.append(inp)\n",
    "print(ls)"
   ]
  },
  {
   "cell_type": "code",
   "execution_count": 5,
   "metadata": {},
   "outputs": [
    {
     "name": "stdin",
     "output_type": "stream",
     "text": [
      "Enter the amount of numbers in lit 1\n",
      "Enter the elements for the list 1\n"
     ]
    },
    {
     "name": "stdout",
     "output_type": "stream",
     "text": [
      "[1]\n"
     ]
    }
   ],
   "source": [
    "ls=[]\n",
    "\n",
    "def userlist():\n",
    "    n = int(input(\"Enter the amount of numbers in lit\"))\n",
    "\n",
    "    for i in range(0,n):\n",
    "        inp=int(input(\"Enter the elements for the list\"))\n",
    "        ls.append(inp)\n",
    "\n",
    "    return ls\n",
    "\n",
    "\n",
    "print(userlist())"
   ]
  },
  {
   "cell_type": "code",
   "execution_count": null,
   "metadata": {},
   "outputs": [],
   "source": []
  }
 ],
 "metadata": {
  "kernelspec": {
   "display_name": "Python 3 (ipykernel)",
   "language": "python",
   "name": "python3"
  },
  "language_info": {
   "codemirror_mode": {
    "name": "ipython",
    "version": 3
   },
   "file_extension": ".py",
   "mimetype": "text/x-python",
   "name": "python",
   "nbconvert_exporter": "python",
   "pygments_lexer": "ipython3",
   "version": "3.12.4"
  }
 },
 "nbformat": 4,
 "nbformat_minor": 4
}
