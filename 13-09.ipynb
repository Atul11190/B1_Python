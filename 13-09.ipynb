{
 "cells": [
  {
   "cell_type": "code",
   "execution_count": 34,
   "id": "45c79c90-8b61-4db0-b5ca-2a701a7c2cb5",
   "metadata": {},
   "outputs": [
    {
     "data": {
      "text/plain": [
       "'590011188@stu.upes.ac.in'"
      ]
     },
     "execution_count": 34,
     "metadata": {},
     "output_type": "execute_result"
    }
   ],
   "source": [
    "#1st method\n",
    "sapids=[590011190,590011189,590011188]\n",
    "def id2email(id):\n",
    "    return str(id) + \"@stu.upes.ac.in\"\n",
    "    #return f\"{id }@stu.upes.ac.in\"\n",
    "\n",
    "emails=[]\n",
    "for id in sapids:\n",
    "    email=id2email(id)\n",
    "    emails.append(email)\n",
    "\n",
    "list_of_emails=email\n",
    "list_of_emails"
   ]
  },
  {
   "cell_type": "code",
   "execution_count": 32,
   "id": "98c144f7-6673-4094-b5c9-2deda20a0cde",
   "metadata": {},
   "outputs": [
    {
     "data": {
      "text/plain": [
       "['590011190@stu.upes.ac.in',\n",
       " '590011189@stu.upes.ac.in',\n",
       " '590011188@stu.upes.ac.in']"
      ]
     },
     "execution_count": 32,
     "metadata": {},
     "output_type": "execute_result"
    }
   ],
   "source": [
    "#2nd method\n",
    "#using map function\n",
    "sapids=[590011190,590011189,590011188]\n",
    "\n",
    "#list_of_emails=map(id2email,sapids)\n",
    "list_of_emails=list(map(id2email,sapids))\n",
    "list_of_emails"
   ]
  },
  {
   "cell_type": "code",
   "execution_count": 29,
   "id": "3a893efc-e986-4dd4-9231-57cbc9fd252b",
   "metadata": {},
   "outputs": [
    {
     "data": {
      "text/plain": [
       "['590011190@stu.upes.ac.in',\n",
       " '590011189@stu.upes.ac.in',\n",
       " '590011188@stu.upes.ac.in']"
      ]
     },
     "execution_count": 29,
     "metadata": {},
     "output_type": "execute_result"
    }
   ],
   "source": [
    "#3rd method\n",
    "#using lambda function\n",
    "sapids=[590011190,590011189,590011188]\n",
    "#list_of_emails=map(id2email,sapids)\n",
    "list_of_emails=list(map(lambda id: str(id)+\"@stu.upes.ac.in\",sapids))\n",
    "list_of_emails"
   ]
  },
  {
   "cell_type": "markdown",
   "id": "7618d08d-decc-4680-a40b-e7cc4bc8919d",
   "metadata": {},
   "source": [
    "##assertion"
   ]
  },
  {
   "cell_type": "code",
   "execution_count": 3,
   "id": "4c5ab98c-bb6a-450a-84e6-bcd6a7ff51b2",
   "metadata": {},
   "outputs": [
    {
     "name": "stdout",
     "output_type": "stream",
     "text": [
      "value of 10\n"
     ]
    }
   ],
   "source": [
    "#try catch in python error handling\n",
    "#print(f\"value of (a)\")\n",
    "a=10\n",
    "try:\n",
    "    print(f\"value of {a}\")\n",
    "except:\n",
    "    print(f\"value of a does not exits\")"
   ]
  },
  {
   "cell_type": "code",
   "execution_count": 38,
   "id": "648f88af-f6aa-4262-ad0a-5c126a224dff",
   "metadata": {},
   "outputs": [
    {
     "ename": "AssertionError",
     "evalue": "",
     "output_type": "error",
     "traceback": [
      "\u001b[1;31m---------------------------------------------------------------------------\u001b[0m",
      "\u001b[1;31mAssertionError\u001b[0m                            Traceback (most recent call last)",
      "Cell \u001b[1;32mIn[38], line 3\u001b[0m\n\u001b[0;32m      1\u001b[0m a\u001b[38;5;241m=\u001b[39m\u001b[38;5;241m10\u001b[39m\n\u001b[0;32m      2\u001b[0m b\u001b[38;5;241m=\u001b[39m\u001b[38;5;241m20\u001b[39m\n\u001b[1;32m----> 3\u001b[0m \u001b[38;5;28;01massert\u001b[39;00m a\u001b[38;5;241m>\u001b[39mb\n\u001b[0;32m      4\u001b[0m \u001b[38;5;28mprint\u001b[39m(\u001b[38;5;124m\"\u001b[39m\u001b[38;5;124massertion is true\u001b[39m\u001b[38;5;124m\"\u001b[39m)\n",
      "\u001b[1;31mAssertionError\u001b[0m: "
     ]
    }
   ],
   "source": [
    "a=10\n",
    "b=20\n",
    "assert a>b\n",
    "print(\"assertion is true\")"
   ]
  },
  {
   "cell_type": "code",
   "execution_count": 40,
   "id": "00ab4b5b-d438-4a94-b1ea-04df826de5a7",
   "metadata": {},
   "outputs": [
    {
     "name": "stdout",
     "output_type": "stream",
     "text": [
      "assertion is true\n"
     ]
    }
   ],
   "source": [
    "a=10\n",
    "b=20\n",
    "assert a<b\n",
    "print(\"assertion is true\")"
   ]
  },
  {
   "cell_type": "code",
   "execution_count": 42,
   "id": "b335a65a-7557-4954-a09a-381b9974a961",
   "metadata": {},
   "outputs": [
    {
     "name": "stdout",
     "output_type": "stream",
     "text": [
      "assertion is false\n"
     ]
    }
   ],
   "source": [
    "a=10\n",
    "b=20\n",
    "try:\n",
    "    assert a>b\n",
    "    print(\"assertion is true\")\n",
    "except:\n",
    "        print(\"assertion is false\")"
   ]
  },
  {
   "cell_type": "markdown",
   "id": "ab22d246-467e-4162-8312-7bf6a17ce54d",
   "metadata": {},
   "source": [
    "##wap that takes two value from user and writtens division of first from second."
   ]
  },
  {
   "cell_type": "code",
   "execution_count": 45,
   "id": "b261ffe3-ae30-4739-b909-034d9c158d75",
   "metadata": {},
   "outputs": [
    {
     "name": "stdin",
     "output_type": "stream",
     "text": [
      "enter number 1 25\n",
      "enter number 2 2\n"
     ]
    },
    {
     "name": "stdout",
     "output_type": "stream",
     "text": [
      "Division of 25/2 is 12.5\n"
     ]
    }
   ],
   "source": [
    "#input from user\n",
    "a=int(input(\"enter number 1\"))\n",
    "b=int(input(\"enter number 2\"))\n",
    "\n",
    "def div(a,b):\n",
    "    return a/b\n",
    "\n",
    "print(f\"Division of {a}/{b} is {div(a,b)}\")"
   ]
  },
  {
   "cell_type": "code",
   "execution_count": 36,
   "id": "43c2c6dc-f82c-4289-8c7f-bd35ce49a43d",
   "metadata": {},
   "outputs": [
    {
     "name": "stdin",
     "output_type": "stream",
     "text": [
      "enter number 1 0\n",
      "enter number 2 5\n"
     ]
    },
    {
     "name": "stdout",
     "output_type": "stream",
     "text": [
      "Division of 0/5 is 0.0\n"
     ]
    }
   ],
   "source": [
    "#using assertion\n",
    "#input from user\n",
    "a=int(input(\"enter number 1\"))\n",
    "b=int(input(\"enter number 2\"))\n",
    "\n",
    "def div(a,b):\n",
    "    assert b !=0\n",
    "    return a/b\n",
    "\n",
    "print(f\"Division of {a}/{b} is {div(a,b)}\")"
   ]
  },
  {
   "cell_type": "code",
   "execution_count": null,
   "id": "743039af-2ba0-49e3-aac2-d9482b79403e",
   "metadata": {},
   "outputs": [],
   "source": []
  }
 ],
 "metadata": {
  "kernelspec": {
   "display_name": "Python 3 (ipykernel)",
   "language": "python",
   "name": "python3"
  },
  "language_info": {
   "codemirror_mode": {
    "name": "ipython",
    "version": 3
   },
   "file_extension": ".py",
   "mimetype": "text/x-python",
   "name": "python",
   "nbconvert_exporter": "python",
   "pygments_lexer": "ipython3",
   "version": "3.12.4"
  }
 },
 "nbformat": 4,
 "nbformat_minor": 5
}
