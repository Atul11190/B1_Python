{
 "cells": [
  {
   "cell_type": "code",
   "execution_count": 6,
   "metadata": {},
   "outputs": [
    {
     "name": "stdout",
     "output_type": "stream",
     "text": [
      "Data has been serialized and saved to data.pickle\n"
     ]
    }
   ],
   "source": [
    "#picking serialzed\n",
    "import pickle\n",
    "#A Python object(dictionary in this case)\n",
    "data ={\"name\":\"atul\",\"age\":\"23\",\"occupation\":\"student\"}\n",
    "#open a file in binary write mode\n",
    "with open(\"data.pickle\",\"wb\") as file:\n",
    "    #pickle the python object and save it to file\n",
    "    pickle.dump(data,file)\n",
    "    print(\"Data has been serialized and saved to data.pickle\")"
   ]
  },
  {
   "cell_type": "code",
   "execution_count": 7,
   "metadata": {},
   "outputs": [
    {
     "name": "stdout",
     "output_type": "stream",
     "text": [
      "Data has been deserialized {'name': 'atul', 'age': '23', 'occupation': 'student'}\n"
     ]
    }
   ],
   "source": [
    "#unpicking (unserailzed) example\n",
    "import pickle \n",
    "#open the file in binary read mode\n",
    "with open(\"data.pickle\",\"rb\") as file:\n",
    "    #load the object from the file\n",
    "    loaded_data = pickle.load(file)\n",
    "    print(\"Data has been deserialized\",loaded_data)"
   ]
  },
  {
   "cell_type": "code",
   "execution_count": null,
   "metadata": {},
   "outputs": [],
   "source": []
  }
 ],
 "metadata": {
  "kernelspec": {
   "display_name": "Python 3",
   "language": "python",
   "name": "python3"
  },
  "language_info": {
   "codemirror_mode": {
    "name": "ipython",
    "version": 3
   },
   "file_extension": ".py",
   "mimetype": "text/x-python",
   "name": "python",
   "nbconvert_exporter": "python",
   "pygments_lexer": "ipython3",
   "version": "3.11.9"
  }
 },
 "nbformat": 4,
 "nbformat_minor": 2
}
