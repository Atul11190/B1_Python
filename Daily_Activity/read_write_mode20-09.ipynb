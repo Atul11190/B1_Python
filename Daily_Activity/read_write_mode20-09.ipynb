{
 "cells": [
  {
   "cell_type": "markdown",
   "metadata": {},
   "source": [
    "Question.1: Write to file using 'w' mode."
   ]
  },
  {
   "cell_type": "code",
   "execution_count": 52,
   "metadata": {},
   "outputs": [],
   "source": [
    "#write to file using 'w' mode\n",
    "file_name=\"example.txt\"\n",
    "#create file handle\n",
    "file = open(file_name,\"w\")\n",
    "dataString=\"some dummy txt data\\n\"\n",
    "#write data in file\n",
    "file_content=file.write(dataString)\n",
    "#save and close file\n",
    "file.close()"
   ]
  },
  {
   "cell_type": "code",
   "execution_count": 53,
   "metadata": {},
   "outputs": [],
   "source": [
    "#write to file using 'a' mode\n",
    "file_name=\"example.txt\"\n",
    "#create file handle\n",
    "file = open(file_name,\"a\")\n",
    "dataString=\"Some extra data\\n\"\n",
    "#write data in file\n",
    "file_content=file.write(dataString)\n",
    "#save and close file\n",
    "file.close()"
   ]
  },
  {
   "cell_type": "code",
   "execution_count": 54,
   "metadata": {},
   "outputs": [
    {
     "name": "stdout",
     "output_type": "stream",
     "text": [
      "['some', 'dummy', 'txt', 'data', 'new', 'line', 'after', 'tab']\n"
     ]
    }
   ],
   "source": [
    "#write to file using 'w' mode\n",
    "file_name=\"example.txt\"\n",
    "#create file handle\n",
    "file = open(file_name,\"w\")\n",
    "dataString=\"some dummy txt data\\n new line\\t after tab\".split()\n",
    "#write data in file\n",
    "print(dataString)\n",
    "file_content=file.writelines(dataString)\n",
    "\n",
    "#save and close file\n",
    "file.close()"
   ]
  },
  {
   "cell_type": "code",
   "execution_count": 55,
   "metadata": {},
   "outputs": [
    {
     "name": "stdout",
     "output_type": "stream",
     "text": [
      "somedummytxtdatanewlineaftertab\n"
     ]
    }
   ],
   "source": [
    "#write to file using 'r' mode\n",
    "file_name=\"example.txt\"\n",
    "#create file handle\n",
    "file = open(file_name,\"r\")\n",
    "#write data in file\n",
    "file_content=file.read()\n",
    "print(file_content)\n",
    "#save and close file\n",
    "file.close()"
   ]
  },
  {
   "cell_type": "code",
   "execution_count": 56,
   "metadata": {},
   "outputs": [
    {
     "name": "stdout",
     "output_type": "stream",
     "text": [
      "['somedummytxtdatanewlineaftertab']\n"
     ]
    }
   ],
   "source": [
    "#write to file using 'r' mode\n",
    "file_name=\"example.txt\"\n",
    "#create file handle\n",
    "file = open(file_name,\"r\")\n",
    "#write data in file\n",
    "file_content=file.readlines()\n",
    "print(file_content)\n",
    "#save and close file\n",
    "file.close()"
   ]
  },
  {
   "cell_type": "markdown",
   "metadata": {},
   "source": [
    "AAsignment.1: Wap to read a csv file and store the data as a two dimensional list."
   ]
  },
  {
   "cell_type": "code",
   "execution_count": 76,
   "metadata": {},
   "outputs": [],
   "source": [
    "#program to read csv file and return a list of list\n",
    "file_name=\"data.csv\"\n",
    "#function to read csv file and return list\n",
    "def read_csv(file_name):\n",
    "    FileHandle=open(file_name,\"r\")\n",
    "    data=[row.split(\",\")]\n",
    "    data=fileHandle.read().split(\"\\n\")\n",
    "    return data\n",
    "    fileHandle.close()\n",
    "    file_name=\"data.csv\"\n",
    "    #your logic\n",
    "    op=data\n",
    "    return op\n",
    "    #it should return list of list\n",
    "    recievedData=read_csv(file_name)\n",
    "    print(recieveData)"
   ]
  },
  {
   "cell_type": "code",
   "execution_count": null,
   "metadata": {},
   "outputs": [],
   "source": []
  },
  {
   "cell_type": "code",
   "execution_count": null,
   "metadata": {},
   "outputs": [],
   "source": []
  }
 ],
 "metadata": {
  "kernelspec": {
   "display_name": "Python 3",
   "language": "python",
   "name": "python3"
  },
  "language_info": {
   "codemirror_mode": {
    "name": "ipython",
    "version": 3
   },
   "file_extension": ".py",
   "mimetype": "text/x-python",
   "name": "python",
   "nbconvert_exporter": "python",
   "pygments_lexer": "ipython3",
   "version": "3.11.9"
  }
 },
 "nbformat": 4,
 "nbformat_minor": 2
}
