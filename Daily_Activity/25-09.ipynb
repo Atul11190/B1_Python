{
 "cells": [
  {
   "cell_type": "markdown",
   "metadata": {},
   "source": [
    "Assignment:- write a program to estimate runtime of all the functions you have used so far."
   ]
  },
  {
   "cell_type": "code",
   "execution_count": 30,
   "metadata": {},
   "outputs": [
    {
     "name": "stdout",
     "output_type": "stream",
     "text": [
      "\n",
      "Time to execute function is 0.0min\n"
     ]
    }
   ],
   "source": [
    "#estimate runtime of all the functions you have used so far\n",
    "import time as t\n",
    "def testFn():\n",
    "    pass\n",
    "startTime=t.time()\n",
    "testFn()\n",
    "endTime=t.time()\n",
    "runTimeInSec=endTime-startTime\n",
    "print(f\"\\nTime to execute function is {runTimeInSec/60}min\")\n"
   ]
  },
  {
   "cell_type": "code",
   "execution_count": 41,
   "metadata": {},
   "outputs": [
    {
     "name": "stdout",
     "output_type": "stream",
     "text": [
      "\n",
      "Time to execute function is 0.0micro second\n"
     ]
    }
   ],
   "source": [
    "#estimate runtime of all the functions you have used so far\n",
    "import time as t\n",
    "def testFn():\n",
    "    pass\n",
    "startTime=t.time()\n",
    "testFn()\n",
    "endTime=t.time()\n",
    "runTimeInSec=endTime-startTime\n",
    "print(f\"\\nTime to execute function is {runTimeInSec*100000}micro second\")\n"
   ]
  },
  {
   "cell_type": "code",
   "execution_count": 50,
   "metadata": {},
   "outputs": [
    {
     "name": "stdout",
     "output_type": "stream",
     "text": [
      "\n",
      "Time to execute function is 0.0min\n"
     ]
    }
   ],
   "source": [
    "#estimate runtime of all the functions you have used so far\n",
    "import time as t\n",
    "from Function_scope import add as fn1\n",
    "startTime=t.time()\n",
    "testFn()\n",
    "endTime=t.time()\n",
    "runTimeInSec=endTime-startTime\n",
    "print(f\"\\nTime to execute function is {runTimeInSec/60}min\")\n",
    "\n",
    "def timeFunction(func,*args,**kwargs):\n",
    "    startTime=t.time()\n",
    "    res=func(args,kwargs)\n",
    "    endTime=t.time()\n",
    "    runTimeInSec=endTime-startTime\n",
    "    print(f\"\\nTime to execute function is {runTimeInSec/60}min\")\n"
   ]
  },
  {
   "cell_type": "markdown",
   "metadata": {},
   "source": [
    "Assignment.:- Wap to modify all previous function to print there execution time."
   ]
  },
  {
   "cell_type": "markdown",
   "metadata": {},
   "source": []
  }
 ],
 "metadata": {
  "kernelspec": {
   "display_name": "Python 3",
   "language": "python",
   "name": "python3"
  },
  "language_info": {
   "codemirror_mode": {
    "name": "ipython",
    "version": 3
   },
   "file_extension": ".py",
   "mimetype": "text/x-python",
   "name": "python",
   "nbconvert_exporter": "python",
   "pygments_lexer": "ipython3",
   "version": "3.11.9"
  }
 },
 "nbformat": 4,
 "nbformat_minor": 2
}
