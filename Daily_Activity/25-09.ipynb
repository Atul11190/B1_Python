{
 "cells": [
  {
   "cell_type": "markdown",
   "metadata": {},
   "source": [
    "Assignment:- write a program to estimate runtime of all the functions you have used so far."
   ]
  },
  {
   "cell_type": "code",
   "execution_count": 30,
   "metadata": {},
   "outputs": [
    {
     "name": "stdout",
     "output_type": "stream",
     "text": [
      "\n",
      "Time to execute function is 0.0min\n"
     ]
    }
   ],
   "source": [
    "#estimate runtime of all the functions you have used so far\n",
    "import time as t\n",
    "def testFn():\n",
    "    pass\n",
    "startTime=t.time()\n",
    "testFn()\n",
    "endTime=t.time()\n",
    "runTimeInSec=endTime-startTime\n",
    "print(f\"\\nTime to execute function is {runTimeInSec/60}min\")\n"
   ]
  },
  {
   "cell_type": "code",
   "execution_count": 41,
   "metadata": {},
   "outputs": [
    {
     "name": "stdout",
     "output_type": "stream",
     "text": [
      "\n",
      "Time to execute function is 0.0micro second\n"
     ]
    }
   ],
   "source": [
    "#estimate runtime of all the functions you have used so far\n",
    "import time as t\n",
    "def testFn():\n",
    "    pass\n",
    "startTime=t.time()\n",
    "testFn()\n",
    "endTime=t.time()\n",
    "runTimeInSec=endTime-startTime\n",
    "print(f\"\\nTime to execute function is {runTimeInSec*100000}micro second\")\n"
   ]
  },
  {
   "cell_type": "code",
   "execution_count": 47,
   "metadata": {},
   "outputs": [
    {
     "ename": "SyntaxError",
     "evalue": "invalid decimal literal (1088693357.py, line 3)",
     "output_type": "error",
     "traceback": [
      "\u001b[1;36m  Cell \u001b[1;32mIn[47], line 3\u001b[1;36m\u001b[0m\n\u001b[1;33m    from functionscope_25-09.py import add as fn1\u001b[0m\n\u001b[1;37m                            ^\u001b[0m\n\u001b[1;31mSyntaxError\u001b[0m\u001b[1;31m:\u001b[0m invalid decimal literal\n"
     ]
    }
   ],
   "source": [
    "#estimate runtime of all the functions you have used so far\n",
    "import time as t\n",
    "from functionscope_25-09.py import add as fn1\n",
    "startTime=t.time()\n",
    "testFn()\n",
    "endTime=t.time()\n",
    "runTimeInSec=endTime-startTime\n",
    "print(f\"\\nTime to execute function is {runTimeInSec/60}min\")\n",
    "\n",
    "def timeFunction(func,*args,**kwargs):\n",
    "    startTime=t.time()\n",
    "    res=func(args,kwargs)\n",
    "    endTime=t.time()\n",
    "    runTimeInSec=endTime-startTime\n",
    "    print(f\"\\nTime to execute function is {runTimeInSec/60}min\")\n"
   ]
  },
  {
   "cell_type": "markdown",
   "metadata": {},
   "source": [
    "Assignment.:- Wap to modify all previous function to print there execution time."
   ]
  },
  {
   "cell_type": "markdown",
   "metadata": {},
   "source": [
    "Assignment.:- for those who are unable to execute code and are late in assignmnet submission and do not have any git repo update we have to cretae presentation and explain usage of passing function as arguments to modify function using wrapper function"
   ]
  },
  {
   "cell_type": "code",
   "execution_count": null,
   "metadata": {},
   "outputs": [],
   "source": []
  }
 ],
 "metadata": {
  "kernelspec": {
   "display_name": "Python 3",
   "language": "python",
   "name": "python3"
  },
  "language_info": {
   "codemirror_mode": {
    "name": "ipython",
    "version": 3
   },
   "file_extension": ".py",
   "mimetype": "text/x-python",
   "name": "python",
   "nbconvert_exporter": "python",
   "pygments_lexer": "ipython3",
   "version": "3.11.9"
  }
 },
 "nbformat": 4,
 "nbformat_minor": 2
}
