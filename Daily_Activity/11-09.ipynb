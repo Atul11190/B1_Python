{
 "cells": [
  {
   "cell_type": "code",
   "execution_count": 9,
   "id": "12610778-79a7-4798-afe6-d6f966f4f7e6",
   "metadata": {},
   "outputs": [
    {
     "data": {
      "text/plain": [
       "['.git', 'Python Assignments', 'Python Classes']"
      ]
     },
     "execution_count": 9,
     "metadata": {},
     "output_type": "execute_result"
    }
   ],
   "source": [
    "import os\n",
    "address =r\"C:\\Users\\nspan\\B1\"\n",
    "\n",
    "list_of_files = os.listdir(address)\n",
    "list_of_files"
   ]
  },
  {
   "cell_type": "code",
   "execution_count": 10,
   "id": "e9da68ff-e973-4439-8206-f89f57f18a7b",
   "metadata": {},
   "outputs": [
    {
     "data": {
      "text/plain": [
       "'jpg'"
      ]
     },
     "execution_count": 10,
     "metadata": {},
     "output_type": "execute_result"
    }
   ],
   "source": [
    "filename = \"base.name.jpg\"\n",
    "list1 = filename.split(\".\")\n",
    "list1[-1]"
   ]
  },
  {
   "cell_type": "code",
   "execution_count": 15,
   "id": "32c92d16-5f2c-4b35-96c2-c83bf49ab757",
   "metadata": {},
   "outputs": [
    {
     "name": "stdin",
     "output_type": "stream",
     "text": [
      "Enter directory address \n",
      " C:\\Users\\nspan\\B1\n"
     ]
    },
    {
     "name": "stdout",
     "output_type": "stream",
     "text": [
      "1\n"
     ]
    }
   ],
   "source": [
    "import os\n",
    "\n",
    "address = input(\"Enter directory address \\n\")\n",
    "address =r\"C:\\Users\\nspan\\B1\"\n",
    "\n",
    "os.chdir(address)\n",
    "\n",
    "cmd=\"pwd\"\n",
    "print(os.system(cmd))"
   ]
  },
  {
   "cell_type": "code",
   "execution_count": null,
   "id": "35bace5a-e2bb-44de-a547-5bff90795137",
   "metadata": {},
   "outputs": [],
   "source": []
  }
 ],
 "metadata": {
  "kernelspec": {
   "display_name": "Python 3 (ipykernel)",
   "language": "python",
   "name": "python3"
  },
  "language_info": {
   "codemirror_mode": {
    "name": "ipython",
    "version": 3
   },
   "file_extension": ".py",
   "mimetype": "text/x-python",
   "name": "python",
   "nbconvert_exporter": "python",
   "pygments_lexer": "ipython3",
   "version": "3.9.7"
  }
 },
 "nbformat": 4,
 "nbformat_minor": 5
}
