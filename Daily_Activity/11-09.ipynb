{
 "cells": [
  {
   "cell_type": "code",
   "execution_count": 5,
   "id": "12610778-79a7-4798-afe6-d6f966f4f7e6",
   "metadata": {},
   "outputs": [
    {
     "data": {
      "text/plain": [
       "['06-09.ipynb',\n",
       " '06-09.py',\n",
       " '10-09.ipynb',\n",
       " '11-09.ipynb',\n",
       " '13-09.ipynb',\n",
       " '18-09.py',\n",
       " '20-09.ipynb',\n",
       " 'Data_csv.csv',\n",
       " 'Example.txt']"
      ]
     },
     "execution_count": 5,
     "metadata": {},
     "output_type": "execute_result"
    }
   ],
   "source": [
    "import os\n",
    "address =r\"C:\\Users\\acer\\B1_Python\\Daily_Activity\"\n",
    "\n",
    "list_of_files = os.listdir(address)\n",
    "list_of_files"
   ]
  },
  {
   "cell_type": "code",
   "execution_count": 6,
   "id": "e9da68ff-e973-4439-8206-f89f57f18a7b",
   "metadata": {},
   "outputs": [
    {
     "data": {
      "text/plain": [
       "'jpg'"
      ]
     },
     "execution_count": 6,
     "metadata": {},
     "output_type": "execute_result"
    }
   ],
   "source": [
    "filename = \"base.name.jpg\"\n",
    "list1 = filename.split(\".\")\n",
    "list1[-1]"
   ]
  },
  {
   "cell_type": "code",
   "execution_count": 7,
   "id": "32c92d16-5f2c-4b35-96c2-c83bf49ab757",
   "metadata": {},
   "outputs": [
    {
     "name": "stdout",
     "output_type": "stream",
     "text": [
      "1\n"
     ]
    }
   ],
   "source": [
    "import os\n",
    "\n",
    "address = input(\"Enter directory address \\n\")\n",
    "address =r\"C:\\Users\\acer\\B1_Python\\Daily_Activity\"\n",
    "\n",
    "os.chdir(address)\n",
    "\n",
    "cmd=\"pwd\"\n",
    "print(os.system(cmd))"
   ]
  },
  {
   "cell_type": "code",
   "execution_count": null,
   "id": "35bace5a-e2bb-44de-a547-5bff90795137",
   "metadata": {},
   "outputs": [],
   "source": []
  }
 ],
 "metadata": {
  "kernelspec": {
   "display_name": "Python 3 (ipykernel)",
   "language": "python",
   "name": "python3"
  },
  "language_info": {
   "codemirror_mode": {
    "name": "ipython",
    "version": 3
   },
   "file_extension": ".py",
   "mimetype": "text/x-python",
   "name": "python",
   "nbconvert_exporter": "python",
   "pygments_lexer": "ipython3",
   "version": "3.11.9"
  }
 },
 "nbformat": 4,
 "nbformat_minor": 5
}
